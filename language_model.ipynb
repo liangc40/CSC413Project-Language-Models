{
  "nbformat": 4,
  "nbformat_minor": 0,
  "metadata": {
    "colab": {
      "name": "language_model.ipynb",
      "provenance": [],
      "collapsed_sections": []
    },
    "kernelspec": {
      "name": "python3",
      "display_name": "Python 3"
    },
    "accelerator": "GPU"
  },
  "cells": [
    {
      "cell_type": "markdown",
      "metadata": {
        "id": "fr75-y9A4zcM",
        "colab_type": "text"
      },
      "source": [
        "# Programming Assignment 1: Learning Distributed Word Representations\n",
        "Based on an assignment by George Dahl\n",
        "\n",
        "For CSC413/2516 in Winter 2020 with Professor Jimmy Ba\n",
        "\n",
        "**Submission:**\n",
        "You must submit two files through MarkUs: a PDF file containing your writeup, titled *a1-writeup.pdf*, and your code file *language_model.ipynb*. Your writeup must be typed.\n",
        "\n",
        "The programming assignments are individual work. See the Course Syllabus for detailed policies. \n",
        "\n",
        "**Introduction:**\n",
        "In this assignment we will learn about word embeddings and make neural networks learn about words.\n",
        "We could try to match statistics about the words, or we could train a network that takes a sequence of words as input and learns to predict the word that comes next.\n",
        "        \n",
        "This assignment will ask you to implement a linear embedding and then the backpropagation computations for a neural language model and then run some experiments to analyze the learned representation.\n",
        "The amount of code you have to write is very short but each line will require you to think very carefully.\n",
        "You will need to derive the updates mathematically, and then implement them using matrix and vector operations in NumPy."
      ]
    },
    {
      "cell_type": "markdown",
      "metadata": {
        "id": "-UUSJPdr3Ge_",
        "colab_type": "text"
      },
      "source": [
        "# Starter code and data\n",
        "\n",
        "Download and extract the archive from the course web page.\n",
        "Look at the file *raw_sentences.txt*.\n",
        "\n",
        "It contains the sentences that we will be using for this assignment.\n",
        "These sentences are fairly simple ones and cover a vocabulary of only 250 words.\n",
        "\n",
        "First, perform the required imports for your code:\n"
      ]
    },
    {
      "cell_type": "code",
      "metadata": {
        "id": "CRwuwhoJ3Knl",
        "colab_type": "code",
        "colab": {}
      },
      "source": [
        "import collections\n",
        "import pickle\n",
        "import numpy as np\n",
        "from tqdm import tqdm\n",
        "import pylab\n",
        "import matplotlib.pyplot as plt\n",
        "use_colab = True\n",
        "if use_colab:\n",
        "  from google.colab import drive\n",
        "\n",
        "TINY = 1e-30\n",
        "EPS = 1e-4\n",
        "nax = np.newaxis"
      ],
      "execution_count": 0,
      "outputs": []
    },
    {
      "cell_type": "markdown",
      "metadata": {
        "id": "qNLvRXdy3NDO",
        "colab_type": "text"
      },
      "source": [
        "If you're using colaboratory, you can create a folder in your google drive - here we used 'CSC413_A1' - with the extracted contents of *a1-code.zip*.\n",
        "Then you can mount your drive to access the data.\n",
        "Feel free to use a different way to access the files *data.pk* and *partially_trained.pk*.\n",
        "You may have to use to enter an authorization code to mount your drive if you use the google drive to store the data.\n",
        "\n",
        "If you're not using colaboratory, then set the paths to wherever the extracted contents are.\n",
        "\n"
      ]
    },
    {
      "cell_type": "code",
      "metadata": {
        "id": "Gkug8am63SzY",
        "colab_type": "code",
        "outputId": "bff405db-a347-45fc-dea8-e13086bc23d8",
        "colab": {
          "base_uri": "https://localhost:8080/",
          "height": 122
        }
      },
      "source": [
        "if use_colab:\n",
        "  drive_name = '/content/drive'\n",
        "  drive.mount(drive_name)\n",
        "  drive_413_A1_folder = 'CSC413_A1'\n",
        "  drive_location = drive_name + '/My Drive/Colab Notebooks/' + drive_413_A1_folder  # Change this to where your files are located\n",
        "else:\n",
        "  # set the drive_location variable to whereever the extracted contents are.\n",
        "  drive_location = ''\n",
        "\n",
        "data_location = drive_location + '/' + 'data.pk'\n",
        "PARTIALLY_TRAINED_MODEL = drive_location + '/' + 'partially_trained.pk'"
      ],
      "execution_count": 2,
      "outputs": [
        {
          "output_type": "stream",
          "text": [
            "Go to this URL in a browser: https://accounts.google.com/o/oauth2/auth?client_id=947318989803-6bn6qk8qdgf4n4g3pfee6491hc0brc4i.apps.googleusercontent.com&redirect_uri=urn%3aietf%3awg%3aoauth%3a2.0%3aoob&response_type=code&scope=email%20https%3a%2f%2fwww.googleapis.com%2fauth%2fdocs.test%20https%3a%2f%2fwww.googleapis.com%2fauth%2fdrive%20https%3a%2f%2fwww.googleapis.com%2fauth%2fdrive.photos.readonly%20https%3a%2f%2fwww.googleapis.com%2fauth%2fpeopleapi.readonly\n",
            "\n",
            "Enter your authorization code:\n",
            "··········\n",
            "Mounted at /content/drive\n"
          ],
          "name": "stdout"
        }
      ]
    },
    {
      "cell_type": "markdown",
      "metadata": {
        "id": "Qna9z_wJ3U5e",
        "colab_type": "text"
      },
      "source": [
        "We have already extracted the 4-grams from this dataset and divided them into training, validation, and test sets.\n",
        "To inspect this data, run the following:"
      ]
    },
    {
      "cell_type": "code",
      "metadata": {
        "id": "RD1LN16d3a0u",
        "colab_type": "code",
        "outputId": "e9ada120-b2f6-4757-c0a1-839680b9d3e1",
        "colab": {
          "base_uri": "https://localhost:8080/",
          "height": 221
        }
      },
      "source": [
        "data = pickle.load(open(data_location, 'rb'))\n",
        "print(data['vocab'][0])\n",
        "# print(data['train_inputs'])\n",
        "print(data['train_inputs'][:10])\n",
        "print(data['train_targets'][:10])"
      ],
      "execution_count": 3,
      "outputs": [
        {
          "output_type": "stream",
          "text": [
            "all\n",
            "[[ 27  25  89]\n",
            " [183  43 248]\n",
            " [182  31  75]\n",
            " [116 246 200]\n",
            " [222 189 248]\n",
            " [ 41  73  25]\n",
            " [241  31 222]\n",
            " [222  31 157]\n",
            " [ 73  31 220]\n",
            " [ 41 191  90]]\n",
            "[143 116 121 185   5  31  31 143  31  67]\n"
          ],
          "name": "stdout"
        }
      ]
    },
    {
      "cell_type": "markdown",
      "metadata": {
        "id": "lXd2Msqs3fPQ",
        "colab_type": "text"
      },
      "source": [
        "Now *data* is a Python dict which contains the vocabulary, as well as the inputs and targets for all three splits of the data. *data*['vocab'] is a list of the 250 words in the dictionary; *data*['vocab'][0] is the word with index 0, and so on. *data*['train_inputs'] is a 372,500 x 3 matrix where each row gives the indices of the 3 context words for one of the 372,500 training cases.\n",
        "*data*['train_targets'] is a vector giving the index of the target word for each training case. The validation and test sets are handled analogously.\n",
        "\n",
        "Even though you only have to modify two specific locations in the code, you may want to read through this code before starting the assignment. "
      ]
    },
    {
      "cell_type": "markdown",
      "metadata": {
        "id": "pa9ggqxJPPs0",
        "colab_type": "text"
      },
      "source": [
        "# Part 1: GLoVE Word Representations (4pts)\n",
        "\n",
        "In this part of the assignment, you will implement a simplified version of the GLoVE embedding (please see the handout for detailed description of the algorithm) with the loss defined as\n",
        "\n",
        "$L(\\{\\mathbf{w}_i,b_i\\}_{i=1}^V) = \\sum_{i,j=1}^V (\\mathbf{w}_i^\\top\\mathbf{w}_j + b_i + b_j - \\log X_{ij})^2$.\n",
        "\n",
        "Note that each word is represented by a d-dimensional vector $\\mathbf{w}_i$ and a scalar bias $b_i$.\n",
        "\n",
        "We have provided a few functions for training the embedding:\n",
        "\n",
        "*   *calculate_log_co_occurence* computes the log co-occurrence matrix of a given corpus\n",
        "*   *train_GLoVE* runs momentum gradient descent to optimize the embedding\n",
        "*   *loss_GLoVE:* INPUT - $V\\times d$ matrix $W$ (collection of $V$ embedding vectors, each d-dimensional); $V\\times 1$ vector $\\mathbf{b}$ (collection of $V$ bias terms); $V \\times V$ log co-occurrence matrix. OUTPUT - loss of the GLoVE objective\n",
        "*   *grad_GLoVE:* INPUT - $V\\times d$ matrix $W$, $V\\times 1$ vector b, and $V\\times V$ log co-occurrence matrix. OUTPUT - $V\\times d$ matrix grad_W containing the gradient of the loss function w.r.t. $W$; $V\\times 1$ vector grad_b which is the gradient of the loss function w.r.t. $\\mathbf{b}$. TO BE IMPLEMENTED.\n",
        "\n",
        "Run the code to compute the co-occurence matrix.\n",
        "Make sure to add a 1 to the occurences, so there are no 0's in the matrix when we take the elementwise log of the matrix.\n"
      ]
    },
    {
      "cell_type": "code",
      "metadata": {
        "id": "kbYUnHGQNbgu",
        "colab_type": "code",
        "colab": {}
      },
      "source": [
        "vocab_size = 250\n",
        "\n",
        "def calculate_log_co_occurence(word_data):\n",
        "  \"Compute the log-co-occurence matrix for our data.\"\n",
        "  log_co_occurence = np.zeros((vocab_size, vocab_size))\n",
        "  for input in word_data:\n",
        "    log_co_occurence[input[0], input[1]] += 1\n",
        "    log_co_occurence[input[1], input[2]] += 1\n",
        "    # If we want symmetric co-occurence can also increment for these.\n",
        "    # Optional: How would you generalize the model if our target co-occurence isn't symmetric?\n",
        "    log_co_occurence[input[1], input[0]] += 1\n",
        "    log_co_occurence[input[2], input[1]] += 1\n",
        "  delta_smoothing = 0.5  # A hyperparameter.  You can play with this if you want.\n",
        "  log_co_occurence += delta_smoothing  # Add delta so log doesn't break on 0's.\n",
        "  log_co_occurence = np.log(log_co_occurence)\n",
        "  return log_co_occurence"
      ],
      "execution_count": 0,
      "outputs": []
    },
    {
      "cell_type": "code",
      "metadata": {
        "id": "XsIN6RrwONPf",
        "colab_type": "code",
        "colab": {}
      },
      "source": [
        "log_co_occurence_train = calculate_log_co_occurence(data['train_inputs'])\n",
        "# print(log_co_occurence_train)\n",
        "log_co_occurence_valid = calculate_log_co_occurence(data['valid_inputs'])\n",
        "# print(log_co_occurence_valid)"
      ],
      "execution_count": 0,
      "outputs": []
    },
    {
      "cell_type": "markdown",
      "metadata": {
        "id": "gNnKkMy-d2bB",
        "colab_type": "text"
      },
      "source": [
        "TO BE IMPLEMENTED: calculate the gradient of the loss function w.r.t. the parameters $W$ and $\\mathbf{b}$. You should vectorize the computation, i.e. not loop over every word."
      ]
    },
    {
      "cell_type": "code",
      "metadata": {
        "id": "LbpkXeaAdwnj",
        "colab_type": "code",
        "colab": {}
      },
      "source": [
        "def loss_GLoVE(W, b, log_co_occurence):\n",
        "  \"Compute the GLoVE loss.\"\n",
        "  n,_ = log_co_occurence.shape\n",
        "  return np.sum((W @ W.T + b @ np.ones([1,n]) + np.ones([n,1])@b.T - log_co_occurence)**2)\n",
        "\n",
        "def grad_GLoVE(W,  b, log_co_occurence):\n",
        "  \"Return the gradient of GLoVE objective w.r.t W and b.\"\n",
        "  \"INPUT: W - Vxd; b - Vx1; log_co_occurence: VxV\"\n",
        "  \"OUTPUT: grad_W - Vxd; grad_b - Vx1\"\n",
        "  n,_ = log_co_occurence.shape\n",
        "  ###########################   YOUR CODE HERE  ##############################\n",
        "  grad_W = 4 * ((W @ W.T + b @ np.ones([1,n]) + np.ones([n,1])@b.T - log_co_occurence) @ W)\n",
        "  grad_b = 4 * ((W @ W.T + b @ np.ones([1,n]) + np.ones([n,1])@b.T - log_co_occurence) @ np.ones([n, 1]))\n",
        "  ############################################################################\n",
        "  return grad_W, grad_b\n",
        "\n",
        "def train_GLoVE(W, b, log_co_occurence_train, log_co_occurence_valid, n_epochs, do_print=False):\n",
        "  \"Traing W and b according to GLoVE objective.\"\n",
        "  n,_ = log_co_occurence_train.shape\n",
        "  learning_rate = 0.2 / n  # A hyperparameter.  You can play with this if you want.\n",
        "  for epoch in range(n_epochs):\n",
        "    grad_w, grad_b = grad_GLoVE(W, b, log_co_occurence_train)\n",
        "    W -= learning_rate * grad_w\n",
        "    b -= learning_rate * grad_b\n",
        "    train_loss, valid_loss = loss_GLoVE(W, b, log_co_occurence_train), loss_GLoVE(W, b, log_co_occurence_valid)\n",
        "    # if do_print:\n",
        "      # print(f\"Train Loss: {train_loss}, valid loss: {valid_loss}, grad_norm: {np.sum(grad_w**2)}\")\n",
        "  return W, b, train_loss, valid_loss"
      ],
      "execution_count": 0,
      "outputs": []
    },
    {
      "cell_type": "markdown",
      "metadata": {
        "id": "pjiNQ0WkWi1Z",
        "colab_type": "text"
      },
      "source": [
        "Train the GLoVE model for a range of embedding dimensions"
      ]
    },
    {
      "cell_type": "code",
      "metadata": {
        "id": "46yGUezEMLJe",
        "colab_type": "code",
        "outputId": "0739c7a7-547d-4100-ecd1-3b1b4b7d4cb8",
        "colab": {
          "base_uri": "https://localhost:8080/",
          "height": 476
        }
      },
      "source": [
        "np.random.seed(1)\n",
        "n_epochs = 1000  # A hyperparameter.  You can play with this if you want.\n",
        "embedding_dims = np.array([1,2,3,5,7,10,12,15,20,25,30,40,50])  # Play with this\n",
        "final_train_losses, final_val_losses = [], []  # Store the final losses for graphing\n",
        "W_final_2d, b_final_2d = None, None\n",
        "do_print = True  # If you want to see diagnostic information during training\n",
        "for embedding_dim in tqdm(embedding_dims):\n",
        "  init_variance = 0.1  # A hyperparameter.  You can play with this if you want.\n",
        "  W = init_variance * np.random.normal(size=(250, embedding_dim))\n",
        "  b = init_variance * np.random.normal(size=(250, 1))\n",
        "  if do_print:\n",
        "    print(f\"Training for embedding dimension: {embedding_dim}\")\n",
        "  W_final, b_final, train_loss, valid_loss = train_GLoVE(W, b, log_co_occurence_train, log_co_occurence_valid, n_epochs, do_print=do_print)\n",
        "  if embedding_dim == 2:\n",
        "    # Save a parameter copy if we are training 2d embedding for visualization later\n",
        "    W_final_2d = W_final\n",
        "    b_final_2d = b_final\n",
        "  final_train_losses += [train_loss]\n",
        "  final_val_losses += [valid_loss]\n",
        "  if do_print:\n",
        "    print(f\"Final validation loss: {valid_loss}\")\n"
      ],
      "execution_count": 7,
      "outputs": [
        {
          "output_type": "stream",
          "text": [
            "\r  0%|          | 0/13 [00:00<?, ?it/s]"
          ],
          "name": "stderr"
        },
        {
          "output_type": "stream",
          "text": [
            "Training for embedding dimension: 1\n"
          ],
          "name": "stdout"
        },
        {
          "output_type": "stream",
          "text": [
            "\r  8%|▊         | 1/13 [00:04<00:56,  4.67s/it]"
          ],
          "name": "stderr"
        },
        {
          "output_type": "stream",
          "text": [
            "Final validation loss: 107541.08362454454\n",
            "Training for embedding dimension: 2\n"
          ],
          "name": "stdout"
        },
        {
          "output_type": "stream",
          "text": [
            "\r 15%|█▌        | 2/13 [00:09<00:50,  4.63s/it]"
          ],
          "name": "stderr"
        },
        {
          "output_type": "stream",
          "text": [
            "Final validation loss: 106279.43236958807\n",
            "Training for embedding dimension: 3\n"
          ],
          "name": "stdout"
        },
        {
          "output_type": "stream",
          "text": [
            "\r 23%|██▎       | 3/13 [00:14<00:47,  4.74s/it]"
          ],
          "name": "stderr"
        },
        {
          "output_type": "stream",
          "text": [
            "Final validation loss: 106366.00884832839\n",
            "Training for embedding dimension: 5\n"
          ],
          "name": "stdout"
        },
        {
          "output_type": "stream",
          "text": [
            "\r 31%|███       | 4/13 [00:19<00:44,  4.95s/it]"
          ],
          "name": "stderr"
        },
        {
          "output_type": "stream",
          "text": [
            "Final validation loss: 106285.53015562617\n",
            "Training for embedding dimension: 7\n"
          ],
          "name": "stdout"
        },
        {
          "output_type": "stream",
          "text": [
            "\r 38%|███▊      | 5/13 [00:24<00:38,  4.82s/it]"
          ],
          "name": "stderr"
        },
        {
          "output_type": "stream",
          "text": [
            "Final validation loss: 105943.65528517302\n",
            "Training for embedding dimension: 10\n"
          ],
          "name": "stdout"
        },
        {
          "output_type": "stream",
          "text": [
            "\r 46%|████▌     | 6/13 [00:28<00:33,  4.78s/it]"
          ],
          "name": "stderr"
        },
        {
          "output_type": "stream",
          "text": [
            "Final validation loss: 105825.48666080271\n",
            "Training for embedding dimension: 12\n"
          ],
          "name": "stdout"
        },
        {
          "output_type": "stream",
          "text": [
            "\r 54%|█████▍    | 7/13 [00:33<00:29,  4.85s/it]"
          ],
          "name": "stderr"
        },
        {
          "output_type": "stream",
          "text": [
            "Final validation loss: 105702.40805128553\n",
            "Training for embedding dimension: 15\n"
          ],
          "name": "stdout"
        },
        {
          "output_type": "stream",
          "text": [
            "\r 62%|██████▏   | 8/13 [00:38<00:23,  4.69s/it]"
          ],
          "name": "stderr"
        },
        {
          "output_type": "stream",
          "text": [
            "Final validation loss: 106230.85819291517\n",
            "Training for embedding dimension: 20\n"
          ],
          "name": "stdout"
        },
        {
          "output_type": "stream",
          "text": [
            "\r 69%|██████▉   | 9/13 [00:42<00:18,  4.63s/it]"
          ],
          "name": "stderr"
        },
        {
          "output_type": "stream",
          "text": [
            "Final validation loss: 106959.46474427787\n",
            "Training for embedding dimension: 25\n"
          ],
          "name": "stdout"
        },
        {
          "output_type": "stream",
          "text": [
            "\r 77%|███████▋  | 10/13 [00:47<00:13,  4.62s/it]"
          ],
          "name": "stderr"
        },
        {
          "output_type": "stream",
          "text": [
            "Final validation loss: 107556.509811716\n",
            "Training for embedding dimension: 30\n"
          ],
          "name": "stdout"
        },
        {
          "output_type": "stream",
          "text": [
            "\r 85%|████████▍ | 11/13 [00:52<00:09,  4.67s/it]"
          ],
          "name": "stderr"
        },
        {
          "output_type": "stream",
          "text": [
            "Final validation loss: 108198.26786919386\n",
            "Training for embedding dimension: 40\n"
          ],
          "name": "stdout"
        },
        {
          "output_type": "stream",
          "text": [
            "\r 92%|█████████▏| 12/13 [00:56<00:04,  4.72s/it]"
          ],
          "name": "stderr"
        },
        {
          "output_type": "stream",
          "text": [
            "Final validation loss: 109186.57762277526\n",
            "Training for embedding dimension: 50\n"
          ],
          "name": "stdout"
        },
        {
          "output_type": "stream",
          "text": [
            "\r100%|██████████| 13/13 [01:01<00:00,  4.77s/it]"
          ],
          "name": "stderr"
        },
        {
          "output_type": "stream",
          "text": [
            "Final validation loss: 110008.96306888884\n"
          ],
          "name": "stdout"
        },
        {
          "output_type": "stream",
          "text": [
            "\n"
          ],
          "name": "stderr"
        }
      ]
    },
    {
      "cell_type": "markdown",
      "metadata": {
        "id": "hzV-qFf5WfAp",
        "colab_type": "text"
      },
      "source": [
        "Plot the training and validation losses against the embedding dimension."
      ]
    },
    {
      "cell_type": "code",
      "metadata": {
        "id": "WHgHgSzJTg5d",
        "colab_type": "code",
        "outputId": "7767cf0e-6bbd-4832-a971-ba08dad33273",
        "colab": {
          "base_uri": "https://localhost:8080/",
          "height": 320
        }
      },
      "source": [
        "pylab.loglog(embedding_dims, final_train_losses)\n",
        "pylab.xlabel(\"Embedding Dimension\")\n",
        "pylab.ylabel(\"Training Loss\")\n",
        "pylab.legend()"
      ],
      "execution_count": 8,
      "outputs": [
        {
          "output_type": "stream",
          "text": [
            "No handles with labels found to put in legend.\n"
          ],
          "name": "stderr"
        },
        {
          "output_type": "execute_result",
          "data": {
            "text/plain": [
              "<matplotlib.legend.Legend at 0x7f679a9e3c88>"
            ]
          },
          "metadata": {
            "tags": []
          },
          "execution_count": 8
        },
        {
          "output_type": "display_data",
          "data": {
            "image/png": "[encoded data removed]",
            "text/plain": [
              "<Figure size 432x288 with 1 Axes>"
            ]
          },
          "metadata": {
            "tags": []
          }
        }
      ]
    },
    {
      "cell_type": "code",
      "metadata": {
        "id": "0UJSfg_hfvIV",
        "colab_type": "code",
        "outputId": "aa9ae907-555f-4011-d8be-f64ccb6040f1",
        "colab": {
          "base_uri": "https://localhost:8080/",
          "height": 317
        }
      },
      "source": [
        "pylab.loglog(embedding_dims, final_val_losses)\n",
        "pylab.xlabel(\"Embedding Dimension\")\n",
        "pylab.ylabel(\"Validation Loss\")\n",
        "pylab.legend()"
      ],
      "execution_count": 9,
      "outputs": [
        {
          "output_type": "stream",
          "text": [
            "No handles with labels found to put in legend.\n"
          ],
          "name": "stderr"
        },
        {
          "output_type": "execute_result",
          "data": {
            "text/plain": [
              "<matplotlib.legend.Legend at 0x7f679a3d05f8>"
            ]
          },
          "metadata": {
            "tags": []
          },
          "execution_count": 9
        },
        {
          "output_type": "display_data",
          "data": {
            "image/png": "[encoded data removed]",
            "text/plain": [
              "<Figure size 432x288 with 1 Axes>"
            ]
          },
          "metadata": {
            "tags": []
          }
        }
      ]
    },
    {
      "cell_type": "markdown",
      "metadata": {
        "id": "Xo1R6rfP4aJQ",
        "colab_type": "text"
      },
      "source": [
        "Answer the following questions:\n",
        "\n",
        "1.  Given the vocabulary size $V$ and embedding dimensionality $d$, how many parameters does the GLoVE model have?\n",
        "2.  Write the gradient of the loss function with respect to one parameter vector $\\mathbf{w}_i$.\n",
        "3.  Implement the gradient update of GLoVE.\n",
        "4.  Train the model with varying dimensionality $d$.\n",
        "Which $d$ leads to optimal validation performance?\n",
        "Why does / doesn't larger $d$ always lead to better validation error?\n"
      ]
    },
    {
      "cell_type": "markdown",
      "metadata": {
        "id": "7YwDZcOhjywe",
        "colab_type": "text"
      },
      "source": [
        "# Part 2: Network Architecture (2pts)\n",
        "See the handout for the written questions in this part."
      ]
    },
    {
      "cell_type": "markdown",
      "metadata": {
        "id": "C8FZTyrzlCNl",
        "colab_type": "text"
      },
      "source": [
        "# Part 3: Training the model (4pts)\n",
        "\n",
        "There are three classes defined in this *part*: *Params*, *Activations*, *Model*.\n",
        "You will make changes to *Model*, but it may help to read through *Params* and *Activations* first."
      ]
    },
    {
      "cell_type": "code",
      "metadata": {
        "id": "EfGEjB3QLNXf",
        "colab_type": "code",
        "colab": {}
      },
      "source": [
        "class Params(object):\n",
        "    \"\"\"A class representing the trainable parameters of the model. This class has five fields:\n",
        "    \n",
        "           word_embedding_weights, a matrix of size N_V x D, where N_V is the number of words in the vocabulary\n",
        "                   and D is the embedding dimension.\n",
        "           embed_to_hid_weights, a matrix of size N_H x 3D, where N_H is the number of hidden units. The first D\n",
        "                   columns represent connections from the embedding of the first context word, the next D columns\n",
        "                   for the second context word, and so on.\n",
        "           hid_bias, a vector of length N_H\n",
        "           hid_to_output_weights, a matrix of size N_V x N_H\n",
        "           output_bias, a vector of length N_V\"\"\"\n",
        "\n",
        "    def __init__(self, word_embedding_weights, embed_to_hid_weights, hid_to_output_weights,\n",
        "                 hid_bias, output_bias):\n",
        "        self.word_embedding_weights = word_embedding_weights\n",
        "        self.embed_to_hid_weights = embed_to_hid_weights\n",
        "        self.hid_to_output_weights = hid_to_output_weights\n",
        "        self.hid_bias = hid_bias\n",
        "        self.output_bias = output_bias\n",
        "\n",
        "    def copy(self):\n",
        "        return self.__class__(self.word_embedding_weights.copy(), self.embed_to_hid_weights.copy(),\n",
        "                              self.hid_to_output_weights.copy(), self.hid_bias.copy(), self.output_bias.copy())\n",
        "\n",
        "    @classmethod\n",
        "    def zeros(cls, vocab_size, context_len, embedding_dim, num_hid):\n",
        "        \"\"\"A constructor which initializes all weights and biases to 0.\"\"\"\n",
        "        word_embedding_weights = np.zeros((vocab_size, embedding_dim))\n",
        "        embed_to_hid_weights = np.zeros((num_hid, context_len * embedding_dim))\n",
        "        hid_to_output_weights = np.zeros((vocab_size, num_hid))\n",
        "        hid_bias = np.zeros(num_hid)\n",
        "        output_bias = np.zeros(vocab_size)\n",
        "        return cls(word_embedding_weights, embed_to_hid_weights, hid_to_output_weights,\n",
        "                   hid_bias, output_bias)\n",
        "\n",
        "    @classmethod\n",
        "    def random_init(cls, init_wt, vocab_size, context_len, embedding_dim, num_hid):\n",
        "        \"\"\"A constructor which initializes weights to small random values and biases to 0.\"\"\"\n",
        "        word_embedding_weights = np.random.normal(0., init_wt, size=(vocab_size, embedding_dim))\n",
        "        embed_to_hid_weights = np.random.normal(0., init_wt, size=(num_hid, context_len * embedding_dim))\n",
        "        hid_to_output_weights = np.random.normal(0., init_wt, size=(vocab_size, num_hid))\n",
        "        hid_bias = np.zeros(num_hid)\n",
        "        output_bias = np.zeros(vocab_size)\n",
        "        return cls(word_embedding_weights, embed_to_hid_weights, hid_to_output_weights,\n",
        "                   hid_bias, output_bias)\n",
        "\n",
        "    ###### The functions below are Python's somewhat oddball way of overloading operators, so that\n",
        "    ###### we can do arithmetic on Params instances. You don't need to understand this to do the assignment.\n",
        "\n",
        "    def __mul__(self, a):\n",
        "        return self.__class__(a * self.word_embedding_weights,\n",
        "                              a * self.embed_to_hid_weights,\n",
        "                              a * self.hid_to_output_weights,\n",
        "                              a * self.hid_bias,\n",
        "                              a * self.output_bias)\n",
        "\n",
        "    def __rmul__(self, a):\n",
        "        return self * a\n",
        "\n",
        "    def __add__(self, other):\n",
        "        return self.__class__(self.word_embedding_weights + other.word_embedding_weights,\n",
        "                              self.embed_to_hid_weights + other.embed_to_hid_weights,\n",
        "                              self.hid_to_output_weights + other.hid_to_output_weights,\n",
        "                              self.hid_bias + other.hid_bias,\n",
        "                              self.output_bias + other.output_bias)\n",
        "\n",
        "    def __sub__(self, other):\n",
        "        return self + -1. * other"
      ],
      "execution_count": 0,
      "outputs": []
    },
    {
      "cell_type": "code",
      "metadata": {
        "id": "k6XFQUPsLSi7",
        "colab_type": "code",
        "colab": {}
      },
      "source": [
        "class Activations(object):\n",
        "    \"\"\"A class representing the activations of the units in the network. This class has three fields:\n",
        "\n",
        "        embedding_layer, a matrix of B x 3D matrix (where B is the batch size and D is the embedding dimension),\n",
        "                representing the activations for the embedding layer on all the cases in a batch. The first D\n",
        "                columns represent the embeddings for the first context word, and so on.\n",
        "        hidden_layer, a B x N_H matrix representing the hidden layer activations for a batch\n",
        "        output_layer, a B x N_V matrix representing the output layer activations for a batch\"\"\"\n",
        "\n",
        "    def __init__(self, embedding_layer, hidden_layer, output_layer):\n",
        "        self.embedding_layer = embedding_layer\n",
        "        self.hidden_layer = hidden_layer\n",
        "        self.output_layer = output_layer\n",
        "\n",
        "def get_batches(inputs, targets, batch_size, shuffle=True):\n",
        "    \"\"\"Divide a dataset (usually the training set) into mini-batches of a given size. This is a\n",
        "    'generator', i.e. something you can use in a for loop. You don't need to understand how it\n",
        "    works to do the assignment.\"\"\"\n",
        "\n",
        "    if inputs.shape[0] % batch_size != 0:\n",
        "        raise RuntimeError('The number of data points must be a multiple of the batch size.')\n",
        "    num_batches = inputs.shape[0] // batch_size\n",
        "\n",
        "    if shuffle:\n",
        "        idxs = np.random.permutation(inputs.shape[0])\n",
        "        inputs = inputs[idxs, :]\n",
        "        targets = targets[idxs]\n",
        "\n",
        "    for m in range(num_batches):\n",
        "        yield inputs[m * batch_size:(m + 1) * batch_size, :], \\\n",
        "              targets[m * batch_size:(m + 1) * batch_size]"
      ],
      "execution_count": 0,
      "outputs": []
    },
    {
      "cell_type": "markdown",
      "metadata": {
        "id": "uuAXaDNll0lf",
        "colab_type": "text"
      },
      "source": [
        "In this part of the assignment, you implement a method which computes the gradient using backpropagation.\n",
        "To start you out, the *Model* class contains several important methods used in training:\n",
        "\n",
        "\n",
        "*   *compute_activations* computes the activations of all units on a given input batch\n",
        "*   *compute_loss* computes the total cross-entropy loss on a mini-batch\n",
        "*   *evaluate* computes the average cross-entropy loss for a given set of inputs and targets\n",
        "\n",
        "You will need to complete the implementation of two additional methods which are needed for training:\n",
        "\n",
        "\n",
        "*   *compute_loss_derivative* computes the derivative of the loss function with respect to the output layer inputs.\n",
        "*   *back_propagate* is the function which computes the gradient of the loss with respect to model parameters using backpropagation.\n",
        "It uses the derivatives computed by *compute_loss_derivative*.\n",
        "Some parts are already filled in for you, but you need to compute the matrices of derivatives for *embed_to_hid_weights*, *hid_bias*, *hid_to_output_weights*, and *output_bias*.\n",
        "These matrices have the same sizes as the parameter matrices (see previous section).\n",
        "\n",
        "In order to implement backpropagation efficiently, you need to express the computations in terms of matrix operations, rather than *for* loops.\n",
        "You should first work through the derivatives on pencil and paper.\n",
        "First, apply the chain rule to compute the derivatives with respect to individual units, weights, and biases.\n",
        "Next, take the formulas you've derived, and express them in matrix form.\n",
        "You should be able to express all of the required computations using only matrix multiplication, matrix transpose, and elementwise operations --- no *for* loops!\n",
        "If you want inspiration, read through the code for *Model.compute_activations* and try to understand how the matrix operations correspond to the computations performed by all the units in the network.\n",
        "        \n",
        "To make your life easier, we have provided the routine *checking.check_gradients*, which checks your gradients using finite differences.\n",
        "You should make sure this check passes before continuing with the assignment.\n",
        "\n",
        "\n",
        "\n"
      ]
    },
    {
      "cell_type": "code",
      "metadata": {
        "id": "0F4CTBipK9B6",
        "colab_type": "code",
        "colab": {}
      },
      "source": [
        "class Model(object):\n",
        "    \"\"\"A class representing the language model itself. This class contains various methods used in training\n",
        "    the model and visualizing the learned representations. It has two fields:\n",
        "\n",
        "        params, a Params instance which contains the model parameters\n",
        "        vocab, a list containing all the words in the dictionary; vocab[0] is the word with index\n",
        "               0, and so on.\"\"\"\n",
        "\n",
        "    def __init__(self, params, vocab):\n",
        "        self.params = params\n",
        "        self.vocab = vocab\n",
        "\n",
        "        self.vocab_size = len(vocab)\n",
        "        self.embedding_dim = self.params.word_embedding_weights.shape[1]\n",
        "        self.embedding_layer_dim = self.params.embed_to_hid_weights.shape[1]\n",
        "        self.context_len = self.embedding_layer_dim // self.embedding_dim\n",
        "        self.num_hid = self.params.embed_to_hid_weights.shape[0]\n",
        "\n",
        "    def copy(self):\n",
        "        return self.__class__(self.params.copy(), self.vocab[:])\n",
        "\n",
        "    @classmethod\n",
        "    def random_init(cls, init_wt, vocab, context_len, embedding_dim, num_hid):\n",
        "        \"\"\"Constructor which randomly initializes the weights to Gaussians with standard deviation init_wt\n",
        "        and initializes the biases to all zeros.\"\"\"\n",
        "        params = Params.random_init(init_wt, len(vocab), context_len, embedding_dim, num_hid)\n",
        "        return Model(params, vocab)\n",
        "\n",
        "    def indicator_matrix(self, targets):\n",
        "        \"\"\"Construct a matrix where the kth entry of row i is 1 if the target for example\n",
        "        i is k, and all other entries are 0.\"\"\"\n",
        "        batch_size = targets.size\n",
        "        expanded_targets = np.zeros((batch_size, len(self.vocab)))\n",
        "        expanded_targets[np.arange(batch_size), targets] = 1.\n",
        "        return expanded_targets\n",
        "\n",
        "    def compute_loss_derivative(self, output_activations, expanded_target_batch):\n",
        "        \"\"\"Compute the derivative of the cross-entropy loss function with respect to the inputs\n",
        "        to the output units. In particular, the output layer computes the softmax\n",
        "\n",
        "            y_i = e^{z_i} / \\sum_j e^{z_j}.\n",
        "\n",
        "        This function should return a batch_size x vocab_size matrix, where the (i, j) entry\n",
        "        is dC / dz_j computed for the ith training case, where C is the loss function\n",
        "\n",
        "            C = -sum(t_i log y_i).\n",
        "\n",
        "        The arguments are as follows:\n",
        "\n",
        "            output_activations - the activations of the output layer, i.e. the y_i's.\n",
        "            expanded_target_batch - each row is the indicator vector for a target word,\n",
        "                i.e. the (i, j) entry is 1 if the i'th word is j, and 0 otherwise.\"\"\"\n",
        "\n",
        "        ###########################   YOUR CODE HERE  ##############################\n",
        "        return output_activations - expanded_target_batch\n",
        "        ############################################################################\n",
        "\n",
        "    def compute_loss(self, output_activations, expanded_target_batch):\n",
        "        \"\"\"Compute the total loss over a mini-batch. expanded_target_batch is the matrix obtained\n",
        "        by calling indicator_matrix on the targets for the batch.\"\"\"\n",
        "        return -np.sum(expanded_target_batch * np.log(output_activations + TINY))\n",
        "\n",
        "    def compute_activations(self, inputs):\n",
        "        \"\"\"Compute the activations on a batch given the inputs. Returns an Activations instance.\n",
        "        You should try to read and understand this function, since this will give you clues for\n",
        "        how to implement back_propagate.\"\"\"\n",
        "\n",
        "        batch_size = inputs.shape[0]\n",
        "        if inputs.shape[1] != self.context_len:\n",
        "            raise RuntimeError('Dimension of the input vectors should be {}, but is instead {}'.format(\n",
        "                self.context_len, inputs.shape[1]))\n",
        "\n",
        "        # Embedding layer\n",
        "        # Look up the input word indies in the word_embedding_weights matrix\n",
        "        embedding_layer_state = np.zeros((batch_size, self.embedding_layer_dim))\n",
        "        for i in range(self.context_len):\n",
        "            embedding_layer_state[:, i * self.embedding_dim:(i + 1) * self.embedding_dim] = \\\n",
        "                self.params.word_embedding_weights[inputs[:, i], :]\n",
        "\n",
        "        # Hidden layer\n",
        "        inputs_to_hid = np.dot(embedding_layer_state, self.params.embed_to_hid_weights.T) + \\\n",
        "                        self.params.hid_bias\n",
        "        # Apply logistic activation function\n",
        "        hidden_layer_state = 1. / (1. + np.exp(-inputs_to_hid))\n",
        "\n",
        "        # Output layer\n",
        "        inputs_to_softmax = np.dot(hidden_layer_state, self.params.hid_to_output_weights.T) + \\\n",
        "                            self.params.output_bias\n",
        "\n",
        "        # Subtract maximum.\n",
        "        # Remember that adding or subtracting the same constant from each input to a\n",
        "        # softmax unit does not affect the outputs. So subtract the maximum to\n",
        "        # make all inputs <= 0. This prevents overflows when computing their exponents.\n",
        "        inputs_to_softmax -= inputs_to_softmax.max(1).reshape((-1, 1))\n",
        "\n",
        "        output_layer_state = np.exp(inputs_to_softmax)\n",
        "        output_layer_state /= output_layer_state.sum(1).reshape((-1, 1))\n",
        "\n",
        "        return Activations(embedding_layer_state, hidden_layer_state, output_layer_state)\n",
        "\n",
        "    def back_propagate(self, input_batch, activations, loss_derivative):\n",
        "        \"\"\"Compute the gradient of the loss function with respect to the trainable parameters\n",
        "        of the model. The arguments are as follows:\n",
        "\n",
        "             input_batch - the indices of the context words\n",
        "             activations - an Activations class representing the output of Model.compute_activations\n",
        "             loss_derivative - the matrix of derivatives computed by compute_loss_derivative\n",
        "             \n",
        "        Part of this function is already completed, but you need to fill in the derivative\n",
        "        computations for hid_to_output_weights_grad, output_bias_grad, embed_to_hid_weights_grad,\n",
        "        and hid_bias_grad. See the documentation for the Params class for a description of what\n",
        "        these matrices represent.\"\"\"\n",
        "\n",
        "        # The matrix with values dC / dz_j, where dz_j is the input to the jth hidden unit,\n",
        "        # i.e. y_j = 1 / (1 + e^{-z_j})\n",
        "        hid_deriv = np.dot(loss_derivative, self.params.hid_to_output_weights) \\\n",
        "                    * activations.hidden_layer * (1. - activations.hidden_layer)\n",
        "\n",
        "        ###########################   YOUR CODE HERE  ##############################\n",
        "        # output_bias_grad = np.sum(np.dot(loss_derivative, np.eye(activations.output_layer.shape[1])), axis=0).T\n",
        "        output_bias_grad = np.dot(loss_derivative.T, np.ones(loss_derivative.shape[0]))\n",
        "        hid_to_output_weights_grad = np.dot(loss_derivative.T, activations.hidden_layer)\n",
        "        hid_bias_grad = np.dot(hid_deriv.T, np.ones(hid_deriv.shape[0]))\n",
        "        embed_to_hid_weights_grad = np.dot(hid_deriv.T, activations.embedding_layer)\n",
        "        ############################################################################\n",
        "\n",
        "        # The matrix of derivatives for the embedding layer\n",
        "        embed_deriv = np.dot(hid_deriv, self.params.embed_to_hid_weights)\n",
        "\n",
        "        # Embedding layer\n",
        "        word_embedding_weights_grad = np.zeros((self.vocab_size, self.embedding_dim))\n",
        "        for w in range(self.context_len):\n",
        "            word_embedding_weights_grad += np.dot(self.indicator_matrix(input_batch[:, w]).T,\n",
        "                                                  embed_deriv[:, w * self.embedding_dim:(w + 1) * self.embedding_dim])\n",
        "\n",
        "        return Params(word_embedding_weights_grad, embed_to_hid_weights_grad, hid_to_output_weights_grad,\n",
        "                      hid_bias_grad, output_bias_grad)\n",
        "\n",
        "    def evaluate(self, inputs, targets, batch_size=100):\n",
        "        \"\"\"Compute the average cross-entropy over a dataset.\n",
        "\n",
        "            inputs: matrix of shape D x N\n",
        "            targets: one-dimensional matrix of length N\"\"\"\n",
        "\n",
        "        ndata = inputs.shape[0]\n",
        "\n",
        "        total = 0.\n",
        "        for input_batch, target_batch in get_batches(inputs, targets, batch_size):\n",
        "            activations = self.compute_activations(input_batch)\n",
        "            expanded_target_batch = self.indicator_matrix(target_batch)\n",
        "            cross_entropy = -np.sum(expanded_target_batch * np.log(activations.output_layer + TINY))\n",
        "            total += cross_entropy\n",
        "\n",
        "        return total / float(ndata)\n",
        "\n",
        "    def display_nearest_words(self, word, k=10):\n",
        "        \"\"\"List the k words nearest to a given word, along with their distances.\"\"\"\n",
        "\n",
        "        if word not in self.vocab:\n",
        "            print('Word \"{}\" not in vocabulary.'.format(word))\n",
        "            return\n",
        "\n",
        "        # Compute distance to every other word.\n",
        "        idx = self.vocab.index(word)\n",
        "        word_rep = self.params.word_embedding_weights[idx, :]\n",
        "        diff = self.params.word_embedding_weights - word_rep.reshape((1, -1))\n",
        "        distance = np.sqrt(np.sum(diff ** 2, axis=1))\n",
        "\n",
        "        # Sort by distance.\n",
        "        order = np.argsort(distance)\n",
        "        order = order[1:1 + k]  # The nearest word is the query word itself, skip that.\n",
        "        for i in order:\n",
        "            print('{}: {}'.format(self.vocab[i], distance[i]))\n",
        "\n",
        "    def predict_next_word(self, word1, word2, word3, k=10):\n",
        "        \"\"\"List the top k predictions for the next word along with their probabilities.\n",
        "        Inputs:\n",
        "            word1: The first word as a string.\n",
        "            word2: The second word as a string.\n",
        "            word3: The third word as a string.\n",
        "            k: The k most probable predictions are shown.\n",
        "        Example usage:\n",
        "            model.predict_next_word('john', 'might', 'be', 3)\n",
        "            model.predict_next_word('life', 'in', 'new', 3)\"\"\"\n",
        "\n",
        "        if word1 not in self.vocab:\n",
        "            raise RuntimeError('Word \"{}\" not in vocabulary.'.format(word1))\n",
        "        if word2 not in self.vocab:\n",
        "            raise RuntimeError('Word \"{}\" not in vocabulary.'.format(word2))\n",
        "        if word3 not in self.vocab:\n",
        "            raise RuntimeError('Word \"{}\" not in vocabulary.'.format(word3))\n",
        "\n",
        "        idx1, idx2, idx3 = self.vocab.index(word1), self.vocab.index(word2), self.vocab.index(word3)\n",
        "        input = np.array([idx1, idx2, idx3]).reshape((1, -1))\n",
        "        activations = self.compute_activations(input)\n",
        "        prob = activations.output_layer.ravel()\n",
        "        idxs = np.argsort(prob)[::-1]  # sort descending\n",
        "        for i in idxs[:k]:\n",
        "            print('{} {} {} {} Prob: {:1.5f}'.format(word1, word2, word3, self.vocab[i], prob[i]))\n",
        "\n",
        "    def word_distance(self, word1, word2):\n",
        "        \"\"\"Compute the distance between the vector representations of two words.\"\"\"\n",
        "\n",
        "        if word1 not in self.vocab:\n",
        "            raise RuntimeError('Word \"{}\" not in vocabulary.'.format(word1))\n",
        "        if word2 not in self.vocab:\n",
        "            raise RuntimeError('Word \"{}\" not in vocabulary.'.format(word2))\n",
        "\n",
        "        idx1, idx2 = self.vocab.index(word1), self.vocab.index(word2)\n",
        "        word_rep1 = self.params.word_embedding_weights[idx1, :]\n",
        "        word_rep2 = self.params.word_embedding_weights[idx2, :]\n",
        "        diff = word_rep1 - word_rep2\n",
        "        return np.sqrt(np.sum(diff ** 2))"
      ],
      "execution_count": 0,
      "outputs": []
    },
    {
      "cell_type": "markdown",
      "metadata": {
        "id": "JbwZCTkboEhz",
        "colab_type": "text"
      },
      "source": [
        "To make your life easier, we have provided the routine *checking.check_gradients*, which checks your gradients using finite differences.\n",
        "You should make sure this check passes before continuing with the assignment."
      ]
    },
    {
      "cell_type": "code",
      "metadata": {
        "id": "B5soRTiRn6W4",
        "colab_type": "code",
        "colab": {}
      },
      "source": [
        "def relative_error(a, b):\n",
        "    return np.abs(a - b) / (np.abs(a) + np.abs(b))\n",
        "\n",
        "\n",
        "def check_output_derivatives(model, input_batch, target_batch):\n",
        "    def softmax(z):\n",
        "        z = z.copy()\n",
        "        z -= z.max(1).reshape((-1, 1))\n",
        "        y = np.exp(z)\n",
        "        y /= y.sum(1).reshape((-1, 1))\n",
        "        return y\n",
        "\n",
        "    batch_size = input_batch.shape[0]\n",
        "    z = np.random.normal(size=(batch_size, model.vocab_size))\n",
        "    y = softmax(z)\n",
        "\n",
        "    expanded_target_batch = model.indicator_matrix(target_batch)\n",
        "    loss_derivative = model.compute_loss_derivative(y, expanded_target_batch)\n",
        "\n",
        "    if loss_derivative is None:\n",
        "        print('Loss derivative not implemented yet.')\n",
        "        return False\n",
        "\n",
        "    if loss_derivative.shape != (batch_size, model.vocab_size):\n",
        "        print('Loss derivative should be size {} but is actually {}.'.format(\n",
        "            (batch_size, model.vocab_size), loss_derivative.shape))\n",
        "        return False\n",
        "\n",
        "    def obj(z):\n",
        "        y = softmax(z)\n",
        "        return model.compute_loss(y, expanded_target_batch)\n",
        "\n",
        "    for count in range(1000):\n",
        "        i, j = np.random.randint(0, loss_derivative.shape[0]), np.random.randint(0, loss_derivative.shape[1])\n",
        "\n",
        "        z_plus = z.copy()\n",
        "        z_plus[i, j] += EPS\n",
        "        obj_plus = obj(z_plus)\n",
        "\n",
        "        z_minus = z.copy()\n",
        "        z_minus[i, j] -= EPS\n",
        "        obj_minus = obj(z_minus)\n",
        "\n",
        "        empirical = (obj_plus - obj_minus) / (2. * EPS)\n",
        "        rel = relative_error(empirical, loss_derivative[i, j])\n",
        "        if rel > 1e-4:\n",
        "            print('The loss derivative has a relative error of {}, which is too large.'.format(rel))\n",
        "            return False\n",
        "\n",
        "    print('The loss derivative looks OK.')\n",
        "    return True\n",
        "\n",
        "\n",
        "def check_param_gradient(model, param_name, input_batch, target_batch):\n",
        "    activations = model.compute_activations(input_batch)\n",
        "    expanded_target_batch = model.indicator_matrix(target_batch)\n",
        "    loss_derivative = model.compute_loss_derivative(activations.output_layer, expanded_target_batch)\n",
        "    param_gradient = model.back_propagate(input_batch, activations, loss_derivative)\n",
        "\n",
        "    def obj(model):\n",
        "        activations = model.compute_activations(input_batch)\n",
        "        return model.compute_loss(activations.output_layer, expanded_target_batch)\n",
        "\n",
        "    dims = getattr(model.params, param_name).shape\n",
        "    is_matrix = (len(dims) == 2)\n",
        "\n",
        "    if getattr(param_gradient, param_name).shape != dims:\n",
        "        print('The gradient for {} should be size {} but is actually {}.'.format(\n",
        "            param_name, dims, getattr(param_gradient, param_name).shape))\n",
        "        return\n",
        "\n",
        "    for count in range(1000):\n",
        "        if is_matrix:\n",
        "            slc = np.random.randint(0, dims[0]), np.random.randint(0, dims[1])\n",
        "        else:\n",
        "            slc = np.random.randint(dims[0])\n",
        "\n",
        "        model_plus = model.copy()\n",
        "        getattr(model_plus.params, param_name)[slc] += EPS\n",
        "        obj_plus = obj(model_plus)\n",
        "\n",
        "        model_minus = model.copy()\n",
        "        getattr(model_minus.params, param_name)[slc] -= EPS\n",
        "        obj_minus = obj(model_minus)\n",
        "\n",
        "        empirical = (obj_plus - obj_minus) / (2. * EPS)\n",
        "        exact = getattr(param_gradient, param_name)[slc]\n",
        "        rel = relative_error(empirical, exact)\n",
        "        if rel > 1e-4:\n",
        "            print('The loss derivative has a relative error of {}, which is too large.'.format(rel))\n",
        "            return False\n",
        "\n",
        "    print('The gradient for {} looks OK.'.format(param_name))\n",
        "\n",
        "\n",
        "def load_partially_trained_model():\n",
        "    obj = pickle.load(open(PARTIALLY_TRAINED_MODEL, 'rb'))\n",
        "    params = Params(obj['word_embedding_weights'], obj['embed_to_hid_weights'],\n",
        "                                   obj['hid_to_output_weights'], obj['hid_bias'],\n",
        "                                   obj['output_bias'])\n",
        "    vocab = obj['vocab']\n",
        "    return Model(params, vocab)\n",
        "\n",
        "\n",
        "def check_gradients():\n",
        "    \"\"\"Check the computed gradients using finite differences.\"\"\"\n",
        "    np.random.seed(0)\n",
        "\n",
        "    np.seterr(all='ignore')  # suppress a warning which is harmless\n",
        "\n",
        "    model = load_partially_trained_model()\n",
        "    data_obj = pickle.load(open(data_location, 'rb'))\n",
        "    train_inputs, train_targets = data_obj['train_inputs'], data_obj['train_targets']\n",
        "    input_batch = train_inputs[:100, :]\n",
        "    target_batch = train_targets[:100]\n",
        "\n",
        "    if not check_output_derivatives(model, input_batch, target_batch):\n",
        "        return\n",
        "\n",
        "    for param_name in ['word_embedding_weights', 'embed_to_hid_weights', 'hid_to_output_weights',\n",
        "                       'hid_bias', 'output_bias']:\n",
        "        check_param_gradient(model, param_name, input_batch, target_batch)\n",
        "\n",
        "\n",
        "def print_gradients():\n",
        "    \"\"\"Print out certain derivatives for grading.\"\"\"\n",
        "\n",
        "    model = load_partially_trained_model()\n",
        "    data_obj = pickle.load(open(data_location, 'rb'))\n",
        "    train_inputs, train_targets = data_obj['train_inputs'], data_obj['train_targets']\n",
        "    input_batch = train_inputs[:100, :]\n",
        "    target_batch = train_targets[:100]\n",
        "\n",
        "    activations = model.compute_activations(input_batch)\n",
        "    expanded_target_batch = model.indicator_matrix(target_batch)\n",
        "    loss_derivative = model.compute_loss_derivative(activations.output_layer, expanded_target_batch)\n",
        "    param_gradient = model.back_propagate(input_batch, activations, loss_derivative)\n",
        "\n",
        "    print('loss_derivative[2, 5]', loss_derivative[2, 5])\n",
        "    print('loss_derivative[2, 121]', loss_derivative[2, 121])\n",
        "    print('loss_derivative[5, 33]', loss_derivative[5, 33])\n",
        "    print('loss_derivative[5, 31]', loss_derivative[5, 31])\n",
        "    print()\n",
        "    print('param_gradient.word_embedding_weights[27, 2]', param_gradient.word_embedding_weights[27, 2])\n",
        "    print('param_gradient.word_embedding_weights[43, 3]', param_gradient.word_embedding_weights[43, 3])\n",
        "    print('param_gradient.word_embedding_weights[22, 4]', param_gradient.word_embedding_weights[22, 4])\n",
        "    print('param_gradient.word_embedding_weights[2, 5]', param_gradient.word_embedding_weights[2, 5])\n",
        "    print()\n",
        "    print('param_gradient.embed_to_hid_weights[10, 2]', param_gradient.embed_to_hid_weights[10, 2])\n",
        "    print('param_gradient.embed_to_hid_weights[15, 3]', param_gradient.embed_to_hid_weights[15, 3])\n",
        "    print('param_gradient.embed_to_hid_weights[30, 9]', param_gradient.embed_to_hid_weights[30, 9])\n",
        "    print('param_gradient.embed_to_hid_weights[35, 21]', param_gradient.embed_to_hid_weights[35, 21])\n",
        "    print()\n",
        "    print('param_gradient.hid_bias[10]', param_gradient.hid_bias[10])\n",
        "    print('param_gradient.hid_bias[20]', param_gradient.hid_bias[20])\n",
        "    print()\n",
        "    print('param_gradient.output_bias[0]', param_gradient.output_bias[0])\n",
        "    print('param_gradient.output_bias[1]', param_gradient.output_bias[1])\n",
        "    print('param_gradient.output_bias[2]', param_gradient.output_bias[2])\n",
        "    print('param_gradient.output_bias[3]', param_gradient.output_bias[3])\n"
      ],
      "execution_count": 0,
      "outputs": []
    },
    {
      "cell_type": "code",
      "metadata": {
        "id": "1TCLl7v189SI",
        "colab_type": "code",
        "outputId": "59e268e5-b896-43a9-adea-5eaf3af59951",
        "colab": {
          "base_uri": "https://localhost:8080/",
          "height": 391
        }
      },
      "source": [
        "#check_gradients()\n",
        "print_gradients()"
      ],
      "execution_count": 14,
      "outputs": [
        {
          "output_type": "stream",
          "text": [
            "loss_derivative[2, 5] 0.001112231773782498\n",
            "loss_derivative[2, 121] -0.9991004720395987\n",
            "loss_derivative[5, 33] 0.0001903237803173703\n",
            "loss_derivative[5, 31] -0.7999757709589483\n",
            "\n",
            "param_gradient.word_embedding_weights[27, 2] -0.27199539981936866\n",
            "param_gradient.word_embedding_weights[43, 3] 0.8641722267354154\n",
            "param_gradient.word_embedding_weights[22, 4] -0.2546730202374648\n",
            "param_gradient.word_embedding_weights[2, 5] 0.0\n",
            "\n",
            "param_gradient.embed_to_hid_weights[10, 2] -0.6526990313918257\n",
            "param_gradient.embed_to_hid_weights[15, 3] -0.13106433000472612\n",
            "param_gradient.embed_to_hid_weights[30, 9] 0.11846774618169399\n",
            "param_gradient.embed_to_hid_weights[35, 21] -0.10004526104604386\n",
            "\n",
            "param_gradient.hid_bias[10] 0.25376638738156426\n",
            "param_gradient.hid_bias[20] -0.03326739163635369\n",
            "\n",
            "param_gradient.output_bias[0] -2.062759603217304\n",
            "param_gradient.output_bias[1] 0.03902008573921689\n",
            "param_gradient.output_bias[2] -0.7561537928318482\n",
            "param_gradient.output_bias[3] 0.21235172051123635\n"
          ],
          "name": "stdout"
        }
      ]
    },
    {
      "cell_type": "markdown",
      "metadata": {
        "id": "qtC-br-N5xGT",
        "colab_type": "text"
      },
      "source": [
        "Once you've implemented the gradient computation, you'll need to train the model.\n",
        "The function *train* implements the main training procedure.\n",
        "It takes two arguments:\n",
        "\n",
        "\n",
        "*   *embedding_dim*: The number of dimensions in the distributed representation.\n",
        "*   *num_hid*: The number of hidden units\n",
        "\n",
        "\n",
        "As the model trains, the script prints out some numbers that tell you how well the training is going.\n",
        "It shows:\n",
        "\n",
        "\n",
        "*   The cross entropy on the last 100 mini-batches of the training set. This is shown after every 100 mini-batches.\n",
        "*   The cross entropy on the entire validation set every 1000 mini-batches of training.\n",
        "\n",
        "At the end of training, this function shows the cross entropies on the training, validation and test sets.\n",
        "It will return a *Model* instance."
      ]
    },
    {
      "cell_type": "code",
      "metadata": {
        "id": "akBYJQOdLfaF",
        "colab_type": "code",
        "colab": {}
      },
      "source": [
        "_train_inputs = None\n",
        "_train_targets = None\n",
        "_vocab = None\n",
        "\n",
        "DEFAULT_TRAINING_CONFIG = {'batch_size': 100,  # the size of a mini-batch\n",
        "                           'learning_rate': 0.1,  # the learning rate\n",
        "                           'momentum': 0.9,  # the decay parameter for the momentum vector\n",
        "                           'epochs': 50,  # the maximum number of epochs to run\n",
        "                           'init_wt': 0.01,  # the standard deviation of the initial random weights\n",
        "                           'context_len': 3,  # the number of context words used\n",
        "                           'show_training_CE_after': 100,  # measure training error after this many mini-batches\n",
        "                           'show_validation_CE_after': 1000,  # measure validation error after this many mini-batches\n",
        "                           }\n",
        "\n",
        "\n",
        "def find_occurrences(word1, word2, word3):\n",
        "    \"\"\"Lists all the words that followed a given tri-gram in the training set and the number of\n",
        "    times each one followed it.\"\"\"\n",
        "\n",
        "    # cache the data so we don't keep reloading\n",
        "    global _train_inputs, _train_targets, _vocab\n",
        "    if _train_inputs is None:\n",
        "        data_obj = pickle.load(open(data_location, 'rb'))\n",
        "        _vocab = data_obj['vocab']\n",
        "        _train_inputs, _train_targets = data_obj['train_inputs'], data_obj['train_targets']\n",
        "\n",
        "    if word1 not in _vocab:\n",
        "        raise RuntimeError('Word \"{}\" not in vocabulary.'.format(word1))\n",
        "    if word2 not in _vocab:\n",
        "        raise RuntimeError('Word \"{}\" not in vocabulary.'.format(word2))\n",
        "    if word3 not in _vocab:\n",
        "        raise RuntimeError('Word \"{}\" not in vocabulary.'.format(word3))\n",
        "\n",
        "    idx1, idx2, idx3 = _vocab.index(word1), _vocab.index(word2), _vocab.index(word3)\n",
        "    idxs = np.array([idx1, idx2, idx3])\n",
        "\n",
        "    matches = np.all(_train_inputs == idxs.reshape((1, -1)), 1)\n",
        "\n",
        "    if np.any(matches):\n",
        "        counts = collections.defaultdict(int)\n",
        "        for m in np.where(matches)[0]:\n",
        "            counts[_vocab[_train_targets[m]]] += 1\n",
        "\n",
        "        word_counts = sorted(list(counts.items()), key=lambda t: t[1], reverse=True)\n",
        "        print('The tri-gram \"{} {} {}\" was followed by the following words in the training set:'.format(\n",
        "            word1, word2, word3))\n",
        "        for word, count in word_counts:\n",
        "            if count > 1:\n",
        "                print('    {} ({} times)'.format(word, count))\n",
        "            else:\n",
        "                print('    {} (1 time)'.format(word))\n",
        "    else:\n",
        "        print('The tri-gram \"{} {} {}\" did not occur in the training set.'.format(word1, word2, word3))\n",
        "\n",
        "\n",
        "def train(embedding_dim, num_hid, config=DEFAULT_TRAINING_CONFIG):\n",
        "    \"\"\"This is the main training routine for the language model. It takes two parameters:\n",
        "\n",
        "        embedding_dim, the dimension of the embeddilanguage_model.pyng space\n",
        "        num_hid, the number of hidden units.\"\"\"\n",
        "\n",
        "    # Load the data\n",
        "    data_obj = pickle.load(open(data_location, 'rb'))\n",
        "    vocab = data_obj['vocab']\n",
        "    train_inputs, train_targets = data_obj['train_inputs'], data_obj['train_targets']\n",
        "    valid_inputs, valid_targets = data_obj['valid_inputs'], data_obj['valid_targets']\n",
        "    test_inputs, test_targets = data_obj['test_inputs'], data_obj['test_targets']\n",
        "\n",
        "    # Randomly initialize the trainable parameters\n",
        "    model = Model.random_init(config['init_wt'], vocab, config['context_len'], embedding_dim, num_hid)\n",
        "\n",
        "    # Variables used for early stopping\n",
        "    best_valid_CE = np.infty\n",
        "    end_training = False\n",
        "\n",
        "    # Initialize the momentum vector to all zeros\n",
        "    delta = Params.zeros(len(vocab), config['context_len'], embedding_dim, num_hid)\n",
        "\n",
        "    this_chunk_CE = 0.\n",
        "    batch_count = 0\n",
        "    for epoch in range(1, config['epochs'] + 1):\n",
        "        if end_training:\n",
        "            break\n",
        "\n",
        "        print()\n",
        "        print('Epoch', epoch)\n",
        "\n",
        "        for m, (input_batch, target_batch) in enumerate(get_batches(train_inputs, train_targets,\n",
        "                                                                    config['batch_size'])):\n",
        "            batch_count += 1\n",
        "\n",
        "            # Forward propagate\n",
        "            activations = model.compute_activations(input_batch)\n",
        "\n",
        "            # Compute loss derivative\n",
        "            expanded_target_batch = model.indicator_matrix(target_batch)\n",
        "            loss_derivative = model.compute_loss_derivative(activations.output_layer, expanded_target_batch)\n",
        "            loss_derivative /= config['batch_size']\n",
        "\n",
        "            # Measure loss function\n",
        "            cross_entropy = model.compute_loss(activations.output_layer, expanded_target_batch) / config['batch_size']\n",
        "            this_chunk_CE += cross_entropy\n",
        "            if batch_count % config['show_training_CE_after'] == 0:\n",
        "                print('Batch {} Train CE {:1.3f}'.format(\n",
        "                    batch_count, this_chunk_CE / config['show_training_CE_after']))\n",
        "                this_chunk_CE = 0.\n",
        "\n",
        "            # Backpropagate\n",
        "            loss_gradient = model.back_propagate(input_batch, activations, loss_derivative)\n",
        "\n",
        "            # Update the momentum vector and model parameters\n",
        "            delta = config['momentum'] * delta + loss_gradient\n",
        "            model.params -= config['learning_rate'] * delta\n",
        "\n",
        "            # Validate\n",
        "            if batch_count % config['show_validation_CE_after'] == 0:\n",
        "                print('Running validation...')\n",
        "                cross_entropy = model.evaluate(valid_inputs, valid_targets)\n",
        "                print('Validation cross-entropy: {:1.3f}'.format(cross_entropy))\n",
        "\n",
        "                if cross_entropy > best_valid_CE:\n",
        "                    print('Validation error increasing!  Training stopped.')\n",
        "                    end_training = True\n",
        "                    break\n",
        "\n",
        "                best_valid_CE = cross_entropy\n",
        "\n",
        "    print()\n",
        "    train_CE = model.evaluate(train_inputs, train_targets)\n",
        "    print('Final training cross-entropy: {:1.3f}'.format(train_CE))\n",
        "    valid_CE = model.evaluate(valid_inputs, valid_targets)\n",
        "    print('Final validation cross-entropy: {:1.3f}'.format(valid_CE))\n",
        "    test_CE = model.evaluate(test_inputs, test_targets)\n",
        "    print('Final test cross-entropy: {:1.3f}'.format(test_CE))\n",
        "\n",
        "    return model"
      ],
      "execution_count": 0,
      "outputs": []
    },
    {
      "cell_type": "markdown",
      "metadata": {
        "id": "ZX-g3K-F55h7",
        "colab_type": "text"
      },
      "source": [
        "Run the training.\n"
      ]
    },
    {
      "cell_type": "code",
      "metadata": {
        "id": "BwlRG7j8LmIM",
        "colab_type": "code",
        "outputId": "77719256-cb2f-4f2f-9eef-64024f2f7f56",
        "colab": {
          "base_uri": "https://localhost:8080/",
          "height": 1000
        }
      },
      "source": [
        "embedding_dim = 16\n",
        "num_hid = 128\n",
        "trained_model = train(embedding_dim, num_hid)"
      ],
      "execution_count": 16,
      "outputs": [
        {
          "output_type": "stream",
          "text": [
            "\n",
            "Epoch 1\n",
            "Batch 100 Train CE 4.530\n",
            "Batch 200 Train CE 4.444\n",
            "Batch 300 Train CE 4.444\n",
            "Batch 400 Train CE 4.441\n",
            "Batch 500 Train CE 4.468\n",
            "Batch 600 Train CE 4.419\n",
            "Batch 700 Train CE 4.453\n",
            "Batch 800 Train CE 4.448\n",
            "Batch 900 Train CE 4.405\n",
            "Batch 1000 Train CE 4.408\n",
            "Running validation...\n",
            "Validation cross-entropy: 4.403\n",
            "Batch 1100 Train CE 4.385\n",
            "Batch 1200 Train CE 4.327\n",
            "Batch 1300 Train CE 4.275\n",
            "Batch 1400 Train CE 4.207\n",
            "Batch 1500 Train CE 4.127\n",
            "Batch 1600 Train CE 4.107\n",
            "Batch 1700 Train CE 4.038\n",
            "Batch 1800 Train CE 4.034\n",
            "Batch 1900 Train CE 4.002\n",
            "Batch 2000 Train CE 3.963\n",
            "Running validation...\n",
            "Validation cross-entropy: 3.985\n",
            "Batch 2100 Train CE 3.980\n",
            "Batch 2200 Train CE 3.918\n",
            "Batch 2300 Train CE 3.878\n",
            "Batch 2400 Train CE 3.885\n",
            "Batch 2500 Train CE 3.799\n",
            "Batch 2600 Train CE 3.789\n",
            "Batch 2700 Train CE 3.716\n",
            "Batch 2800 Train CE 3.661\n",
            "Batch 2900 Train CE 3.614\n",
            "Batch 3000 Train CE 3.588\n",
            "Running validation...\n",
            "Validation cross-entropy: 3.558\n",
            "Batch 3100 Train CE 3.538\n",
            "Batch 3200 Train CE 3.496\n",
            "Batch 3300 Train CE 3.447\n",
            "Batch 3400 Train CE 3.442\n",
            "Batch 3500 Train CE 3.425\n",
            "Batch 3600 Train CE 3.377\n",
            "Batch 3700 Train CE 3.357\n",
            "\n",
            "Epoch 2\n",
            "Batch 3800 Train CE 3.363\n",
            "Batch 3900 Train CE 3.322\n",
            "Batch 4000 Train CE 3.273\n",
            "Running validation...\n",
            "Validation cross-entropy: 3.310\n",
            "Batch 4100 Train CE 3.342\n",
            "Batch 4200 Train CE 3.306\n",
            "Batch 4300 Train CE 3.305\n",
            "Batch 4400 Train CE 3.243\n",
            "Batch 4500 Train CE 3.249\n",
            "Batch 4600 Train CE 3.231\n",
            "Batch 4700 Train CE 3.232\n",
            "Batch 4800 Train CE 3.185\n",
            "Batch 4900 Train CE 3.215\n",
            "Batch 5000 Train CE 3.188\n",
            "Running validation...\n",
            "Validation cross-entropy: 3.190\n",
            "Batch 5100 Train CE 3.163\n",
            "Batch 5200 Train CE 3.169\n",
            "Batch 5300 Train CE 3.162\n",
            "Batch 5400 Train CE 3.164\n",
            "Batch 5500 Train CE 3.159\n",
            "Batch 5600 Train CE 3.142\n",
            "Batch 5700 Train CE 3.122\n",
            "Batch 5800 Train CE 3.132\n",
            "Batch 5900 Train CE 3.143\n",
            "Batch 6000 Train CE 3.129\n",
            "Running validation...\n",
            "Validation cross-entropy: 3.107\n",
            "Batch 6100 Train CE 3.112\n",
            "Batch 6200 Train CE 3.094\n",
            "Batch 6300 Train CE 3.058\n",
            "Batch 6400 Train CE 3.073\n",
            "Batch 6500 Train CE 3.066\n",
            "Batch 6600 Train CE 3.107\n",
            "Batch 6700 Train CE 3.048\n",
            "Batch 6800 Train CE 3.055\n",
            "Batch 6900 Train CE 3.049\n",
            "Batch 7000 Train CE 3.049\n",
            "Running validation...\n",
            "Validation cross-entropy: 3.037\n",
            "Batch 7100 Train CE 3.039\n",
            "Batch 7200 Train CE 3.000\n",
            "Batch 7300 Train CE 3.064\n",
            "Batch 7400 Train CE 3.020\n",
            "\n",
            "Epoch 3\n",
            "Batch 7500 Train CE 3.004\n",
            "Batch 7600 Train CE 3.021\n",
            "Batch 7700 Train CE 2.991\n",
            "Batch 7800 Train CE 2.992\n",
            "Batch 7900 Train CE 3.018\n",
            "Batch 8000 Train CE 2.965\n",
            "Running validation...\n",
            "Validation cross-entropy: 2.982\n",
            "Batch 8100 Train CE 2.957\n",
            "Batch 8200 Train CE 2.972\n",
            "Batch 8300 Train CE 2.992\n",
            "Batch 8400 Train CE 2.968\n",
            "Batch 8500 Train CE 2.955\n",
            "Batch 8600 Train CE 2.977\n",
            "Batch 8700 Train CE 2.948\n",
            "Batch 8800 Train CE 2.969\n",
            "Batch 8900 Train CE 2.917\n",
            "Batch 9000 Train CE 2.935\n",
            "Running validation...\n",
            "Validation cross-entropy: 2.946\n",
            "Batch 9100 Train CE 2.953\n",
            "Batch 9200 Train CE 2.944\n",
            "Batch 9300 Train CE 2.980\n",
            "Batch 9400 Train CE 2.940\n",
            "Batch 9500 Train CE 2.953\n",
            "Batch 9600 Train CE 2.908\n",
            "Batch 9700 Train CE 2.922\n",
            "Batch 9800 Train CE 2.890\n",
            "Batch 9900 Train CE 2.932\n",
            "Batch 10000 Train CE 2.929\n",
            "Running validation...\n",
            "Validation cross-entropy: 2.910\n",
            "Batch 10100 Train CE 2.882\n",
            "Batch 10200 Train CE 2.895\n",
            "Batch 10300 Train CE 2.904\n",
            "Batch 10400 Train CE 2.925\n",
            "Batch 10500 Train CE 2.888\n",
            "Batch 10600 Train CE 2.879\n",
            "Batch 10700 Train CE 2.850\n",
            "Batch 10800 Train CE 2.891\n",
            "Batch 10900 Train CE 2.902\n",
            "Batch 11000 Train CE 2.876\n",
            "Running validation...\n",
            "Validation cross-entropy: 2.879\n",
            "Batch 11100 Train CE 2.864\n",
            "\n",
            "Epoch 4\n",
            "Batch 11200 Train CE 2.863\n",
            "Batch 11300 Train CE 2.861\n",
            "Batch 11400 Train CE 2.858\n",
            "Batch 11500 Train CE 2.847\n",
            "Batch 11600 Train CE 2.875\n",
            "Batch 11700 Train CE 2.884\n",
            "Batch 11800 Train CE 2.883\n",
            "Batch 11900 Train CE 2.864\n",
            "Batch 12000 Train CE 2.833\n",
            "Running validation...\n",
            "Validation cross-entropy: 2.856\n",
            "Batch 12100 Train CE 2.859\n",
            "Batch 12200 Train CE 2.801\n",
            "Batch 12300 Train CE 2.820\n",
            "Batch 12400 Train CE 2.841\n",
            "Batch 12500 Train CE 2.844\n",
            "Batch 12600 Train CE 2.802\n",
            "Batch 12700 Train CE 2.832\n",
            "Batch 12800 Train CE 2.903\n",
            "Batch 12900 Train CE 2.843\n",
            "Batch 13000 Train CE 2.803\n",
            "Running validation...\n",
            "Validation cross-entropy: 2.849\n",
            "Batch 13100 Train CE 2.823\n",
            "Batch 13200 Train CE 2.837\n",
            "Batch 13300 Train CE 2.817\n",
            "Batch 13400 Train CE 2.821\n",
            "Batch 13500 Train CE 2.797\n",
            "Batch 13600 Train CE 2.825\n",
            "Batch 13700 Train CE 2.787\n",
            "Batch 13800 Train CE 2.815\n",
            "Batch 13900 Train CE 2.829\n",
            "Batch 14000 Train CE 2.817\n",
            "Running validation...\n",
            "Validation cross-entropy: 2.817\n",
            "Batch 14100 Train CE 2.782\n",
            "Batch 14200 Train CE 2.792\n",
            "Batch 14300 Train CE 2.771\n",
            "Batch 14400 Train CE 2.820\n",
            "Batch 14500 Train CE 2.822\n",
            "Batch 14600 Train CE 2.792\n",
            "Batch 14700 Train CE 2.817\n",
            "Batch 14800 Train CE 2.800\n",
            "Batch 14900 Train CE 2.804\n",
            "\n",
            "Epoch 5\n",
            "Batch 15000 Train CE 2.752\n",
            "Running validation...\n",
            "Validation cross-entropy: 2.806\n",
            "Batch 15100 Train CE 2.756\n",
            "Batch 15200 Train CE 2.788\n",
            "Batch 15300 Train CE 2.791\n",
            "Batch 15400 Train CE 2.818\n",
            "Batch 15500 Train CE 2.746\n",
            "Batch 15600 Train CE 2.807\n",
            "Batch 15700 Train CE 2.807\n",
            "Batch 15800 Train CE 2.752\n",
            "Batch 15900 Train CE 2.757\n",
            "Batch 16000 Train CE 2.760\n",
            "Running validation...\n",
            "Validation cross-entropy: 2.784\n",
            "Batch 16100 Train CE 2.731\n",
            "Batch 16200 Train CE 2.768\n",
            "Batch 16300 Train CE 2.739\n",
            "Batch 16400 Train CE 2.778\n",
            "Batch 16500 Train CE 2.783\n",
            "Batch 16600 Train CE 2.756\n",
            "Batch 16700 Train CE 2.778\n",
            "Batch 16800 Train CE 2.737\n",
            "Batch 16900 Train CE 2.808\n",
            "Batch 17000 Train CE 2.786\n",
            "Running validation...\n",
            "Validation cross-entropy: 2.774\n",
            "Batch 17100 Train CE 2.776\n",
            "Batch 17200 Train CE 2.758\n",
            "Batch 17300 Train CE 2.724\n",
            "Batch 17400 Train CE 2.793\n",
            "Batch 17500 Train CE 2.754\n",
            "Batch 17600 Train CE 2.788\n",
            "Batch 17700 Train CE 2.764\n",
            "Batch 17800 Train CE 2.767\n",
            "Batch 17900 Train CE 2.743\n",
            "Batch 18000 Train CE 2.726\n",
            "Running validation...\n",
            "Validation cross-entropy: 2.765\n",
            "Batch 18100 Train CE 2.757\n",
            "Batch 18200 Train CE 2.767\n",
            "Batch 18300 Train CE 2.749\n",
            "Batch 18400 Train CE 2.745\n",
            "Batch 18500 Train CE 2.740\n",
            "Batch 18600 Train CE 2.734\n",
            "\n",
            "Epoch 6\n",
            "Batch 18700 Train CE 2.706\n",
            "Batch 18800 Train CE 2.720\n",
            "Batch 18900 Train CE 2.726\n",
            "Batch 19000 Train CE 2.743\n",
            "Running validation...\n",
            "Validation cross-entropy: 2.756\n",
            "Batch 19100 Train CE 2.769\n",
            "Batch 19200 Train CE 2.744\n",
            "Batch 19300 Train CE 2.725\n",
            "Batch 19400 Train CE 2.683\n",
            "Batch 19500 Train CE 2.731\n",
            "Batch 19600 Train CE 2.725\n",
            "Batch 19700 Train CE 2.727\n",
            "Batch 19800 Train CE 2.735\n",
            "Batch 19900 Train CE 2.746\n",
            "Batch 20000 Train CE 2.738\n",
            "Running validation...\n",
            "Validation cross-entropy: 2.747\n",
            "Batch 20100 Train CE 2.722\n",
            "Batch 20200 Train CE 2.692\n",
            "Batch 20300 Train CE 2.767\n",
            "Batch 20400 Train CE 2.725\n",
            "Batch 20500 Train CE 2.738\n",
            "Batch 20600 Train CE 2.746\n",
            "Batch 20700 Train CE 2.690\n",
            "Batch 20800 Train CE 2.729\n",
            "Batch 20900 Train CE 2.715\n",
            "Batch 21000 Train CE 2.744\n",
            "Running validation...\n",
            "Validation cross-entropy: 2.738\n",
            "Batch 21100 Train CE 2.728\n",
            "Batch 21200 Train CE 2.729\n",
            "Batch 21300 Train CE 2.714\n",
            "Batch 21400 Train CE 2.713\n",
            "Batch 21500 Train CE 2.746\n",
            "Batch 21600 Train CE 2.703\n",
            "Batch 21700 Train CE 2.725\n",
            "Batch 21800 Train CE 2.689\n",
            "Batch 21900 Train CE 2.689\n",
            "Batch 22000 Train CE 2.701\n",
            "Running validation...\n",
            "Validation cross-entropy: 2.733\n",
            "Batch 22100 Train CE 2.755\n",
            "Batch 22200 Train CE 2.725\n",
            "Batch 22300 Train CE 2.718\n",
            "\n",
            "Epoch 7\n",
            "Batch 22400 Train CE 2.683\n",
            "Batch 22500 Train CE 2.677\n",
            "Batch 22600 Train CE 2.695\n",
            "Batch 22700 Train CE 2.676\n",
            "Batch 22800 Train CE 2.695\n",
            "Batch 22900 Train CE 2.670\n",
            "Batch 23000 Train CE 2.725\n",
            "Running validation...\n",
            "Validation cross-entropy: 2.730\n",
            "Batch 23100 Train CE 2.686\n",
            "Batch 23200 Train CE 2.688\n",
            "Batch 23300 Train CE 2.684\n",
            "Batch 23400 Train CE 2.685\n",
            "Batch 23500 Train CE 2.704\n",
            "Batch 23600 Train CE 2.721\n",
            "Batch 23700 Train CE 2.674\n",
            "Batch 23800 Train CE 2.699\n",
            "Batch 23900 Train CE 2.694\n",
            "Batch 24000 Train CE 2.697\n",
            "Running validation...\n",
            "Validation cross-entropy: 2.721\n",
            "Batch 24100 Train CE 2.693\n",
            "Batch 24200 Train CE 2.710\n",
            "Batch 24300 Train CE 2.709\n",
            "Batch 24400 Train CE 2.708\n",
            "Batch 24500 Train CE 2.721\n",
            "Batch 24600 Train CE 2.688\n",
            "Batch 24700 Train CE 2.705\n",
            "Batch 24800 Train CE 2.696\n",
            "Batch 24900 Train CE 2.691\n",
            "Batch 25000 Train CE 2.685\n",
            "Running validation...\n",
            "Validation cross-entropy: 2.716\n",
            "Batch 25100 Train CE 2.708\n",
            "Batch 25200 Train CE 2.724\n",
            "Batch 25300 Train CE 2.669\n",
            "Batch 25400 Train CE 2.701\n",
            "Batch 25500 Train CE 2.681\n",
            "Batch 25600 Train CE 2.677\n",
            "Batch 25700 Train CE 2.679\n",
            "Batch 25800 Train CE 2.701\n",
            "Batch 25900 Train CE 2.696\n",
            "Batch 26000 Train CE 2.692\n",
            "Running validation...\n",
            "Validation cross-entropy: 2.710\n",
            "\n",
            "Epoch 8\n",
            "Batch 26100 Train CE 2.672\n",
            "Batch 26200 Train CE 2.667\n",
            "Batch 26300 Train CE 2.668\n",
            "Batch 26400 Train CE 2.674\n",
            "Batch 26500 Train CE 2.691\n",
            "Batch 26600 Train CE 2.681\n",
            "Batch 26700 Train CE 2.681\n",
            "Batch 26800 Train CE 2.684\n",
            "Batch 26900 Train CE 2.657\n",
            "Batch 27000 Train CE 2.658\n",
            "Running validation...\n",
            "Validation cross-entropy: 2.708\n",
            "Batch 27100 Train CE 2.649\n",
            "Batch 27200 Train CE 2.672\n",
            "Batch 27300 Train CE 2.667\n",
            "Batch 27400 Train CE 2.689\n",
            "Batch 27500 Train CE 2.683\n",
            "Batch 27600 Train CE 2.682\n",
            "Batch 27700 Train CE 2.658\n",
            "Batch 27800 Train CE 2.669\n",
            "Batch 27900 Train CE 2.666\n",
            "Batch 28000 Train CE 2.674\n",
            "Running validation...\n",
            "Validation cross-entropy: 2.717\n",
            "Validation error increasing!  Training stopped.\n",
            "\n",
            "Final training cross-entropy: 2.661\n",
            "Final validation cross-entropy: 2.717\n",
            "Final test cross-entropy: 2.723\n"
          ],
          "name": "stdout"
        }
      ]
    },
    {
      "cell_type": "markdown",
      "metadata": {
        "id": "2FD5Om0ypNPe",
        "colab_type": "text"
      },
      "source": [
        "To convince us that you have correctly implemented the gradient computations, please include the following with your assignment submission:\n",
        "\n",
        "\n",
        "\n",
        "*   You will submit *language_model.ipynb* through MarkUs.\n",
        "You do not need to modify any of the code except the parts we asked you to implement.\n",
        "*   In your writeup, include the output of the function *print_gradients*.\n",
        "This prints out part of the gradients for a partially trained network which we have provided, and we will check them against the correct outputs. **Important:** make sure to give the output of *print_gradients*, not *check_gradients*.\n",
        "\n",
        "This is worth 4 points: 1 for the loss derivatives, 1 for the bias gradients, and 2 for the weight gradients.\n",
        "Since we gave you a gradient checker, you have no excuse for not getting full points on this part.\n",
        "\n"
      ]
    },
    {
      "cell_type": "markdown",
      "metadata": {
        "id": "z-TThqObiw58",
        "colab_type": "text"
      },
      "source": [
        "# Part 4: Analysis (4pts)\n",
        "\n",
        "In this part, you will analyze the representation learned by the network. You should first train a\n",
        "model with a 16-dimensional embedding and 128 hidden units, as discussed in the previous section;\n",
        "you’ll use this trained model for the remainder of this section.\n",
        "Important: if you’ve made any fixes\n",
        "to your gradient code, you must reload the language_model module and then re-run the training\n",
        "procedure.\n",
        "Python does not reload modules automatically, and you don’t want to accidentally\n",
        "analyze an old version of your model.\n",
        "\n",
        "These methods of the Model class can be used for analyzing the model after the training is\n",
        "done:\n",
        "\n",
        "\n",
        "\n",
        "*   *display_nearest_words* lists the words whose embedding vectors are nearest to the given\n",
        "word\n",
        "*   *word_distance* computes the distance between the embeddings of two words\n",
        "*   *predict_next_word* shows the possible next words the model considers most likely, along\n",
        "with their probabilities\n",
        "\n",
        "\n",
        "We also include:\n",
        "\n",
        "\n",
        "*    *tsne_plot_representation* creates a 2-dimensional embedding of the distributed representation space using\n",
        "an algorithm called t-SNE. (You don’t need to know what this is for the assignment, but we\n",
        "may cover it later in the course.) Nearby points in this 2-D space are meant to correspond to\n",
        "nearby points in the 16-D space."
      ]
    },
    {
      "cell_type": "code",
      "metadata": {
        "id": "1PCshvD3ijGM",
        "colab_type": "code",
        "colab": {}
      },
      "source": [
        "import numpy as Math\n",
        "\n",
        "def Hbeta(D=Math.array([]), beta=1.0):\n",
        "    \"\"\"Compute the perplexity and the P-row for a specific value of the precision of a Gaussian distribution.\"\"\"\n",
        "\n",
        "    # Compute P-row and corresponding perplexity\n",
        "    P = Math.exp(-D.copy() * beta);\n",
        "    sumP = sum(P);\n",
        "    H = Math.log(sumP) + beta * Math.sum(D * P) / sumP;\n",
        "    P = P / sumP;\n",
        "    return H, P;\n",
        "\n",
        "\n",
        "def x2p(X=Math.array([]), tol=1e-5, perplexity=30.0):\n",
        "    \"\"\"Performs a binary search to get P-values in such a way that each conditional Gaussian has the same perplexity.\"\"\"\n",
        "\n",
        "    # Initialize some variables\n",
        "    print(\"Computing pairwise distances...\")\n",
        "    (n, d) = X.shape;\n",
        "    sum_X = Math.sum(Math.square(X), 1);\n",
        "    D = Math.add(Math.add(-2 * Math.dot(X, X.T), sum_X).T, sum_X);\n",
        "    P = Math.zeros((n, n));\n",
        "    beta = Math.ones((n, 1));\n",
        "    logU = Math.log(perplexity);\n",
        "\n",
        "    # Loop over all datapoints\n",
        "    for i in range(n):\n",
        "\n",
        "        # Print progress\n",
        "        if i % 500 == 0:\n",
        "            print(\"Computing P-values for point \", i, \" of \", n, \"...\")\n",
        "\n",
        "        # Compute the Gaussian kernel and entropy for the current precision\n",
        "        betamin = -Math.inf;\n",
        "        betamax = Math.inf;\n",
        "        Di = D[i, Math.concatenate((Math.r_[0:i], Math.r_[i + 1:n]))];\n",
        "        (H, thisP) = Hbeta(Di, beta[i]);\n",
        "\n",
        "        # Evaluate whether the perplexity is within tolerance\n",
        "        Hdiff = H - logU;\n",
        "        tries = 0;\n",
        "        while Math.abs(Hdiff) > tol and tries < 50:\n",
        "\n",
        "            # If not, increase or decrease precision\n",
        "            if Hdiff > 0:\n",
        "                betamin = beta[i];\n",
        "                if betamax == Math.inf or betamax == -Math.inf:\n",
        "                    beta[i] = beta[i] * 2;\n",
        "                else:\n",
        "                    beta[i] = (beta[i] + betamax) / 2;\n",
        "            else:\n",
        "                betamax = beta[i];\n",
        "                if betamin == Math.inf or betamin == -Math.inf:\n",
        "                    beta[i] = beta[i] / 2;\n",
        "                else:\n",
        "                    beta[i] = (beta[i] + betamin) / 2;\n",
        "\n",
        "            # Recompute the values\n",
        "            (H, thisP) = Hbeta(Di, beta[i]);\n",
        "            Hdiff = H - logU;\n",
        "            tries = tries + 1;\n",
        "\n",
        "        # Set the final row of P\n",
        "        P[i, Math.concatenate((Math.r_[0:i], Math.r_[i + 1:n]))] = thisP;\n",
        "\n",
        "    # Return final P-matrix\n",
        "    print(\"Mean value of sigma: \", Math.mean(Math.sqrt(1 / beta)))\n",
        "    return P;\n",
        "\n",
        "\n",
        "def pca(X=Math.array([]), no_dims=50):\n",
        "    \"\"\"Runs PCA on the NxD array X in order to reduce its dimensionality to no_dims dimensions.\"\"\"\n",
        "\n",
        "    print(\"Preprocessing the data using PCA...\")\n",
        "    (n, d) = X.shape;\n",
        "    X = X - Math.tile(Math.mean(X, 0), (n, 1));\n",
        "    (l, M) = Math.linalg.eig(Math.dot(X.T, X));\n",
        "    Y = Math.dot(X, M[:, 0:no_dims]);\n",
        "    return Y;\n",
        "\n",
        "\n",
        "def tsne(X=Math.array([]), no_dims=2, initial_dims=50, perplexity=30.0):\n",
        "    \"\"\"Runs t-SNE on the dataset in the NxD array X to reduce its dimensionality to no_dims dimensions.\n",
        "    The syntaxis of the function is Y = tsne.tsne(X, no_dims, perplexity), where X is an NxD NumPy array.\"\"\"\n",
        "\n",
        "    # Check inputs\n",
        "    if X.dtype != \"float64\":\n",
        "        print(\"Error: array X should have type float64.\");\n",
        "        return -1;\n",
        "    # if no_dims.__class__ != \"<type 'int'>\":\t\t\t# doesn't work yet!\n",
        "    #\tprint(\"Error: number of dimensions should be an integer.\");\n",
        "    #\treturn -1;\n",
        "\n",
        "    # Initialize variables\n",
        "    X = pca(X, initial_dims);\n",
        "    (n, d) = X.shape;\n",
        "    max_iter = 1000;\n",
        "    initial_momentum = 0.5;\n",
        "    final_momentum = 0.8;\n",
        "    eta = 500;\n",
        "    min_gain = 0.01;\n",
        "    Y = Math.random.randn(n, no_dims);\n",
        "    dY = Math.zeros((n, no_dims));\n",
        "    iY = Math.zeros((n, no_dims));\n",
        "    gains = Math.ones((n, no_dims));\n",
        "\n",
        "    # Compute P-values\n",
        "    P = x2p(X, 1e-5, perplexity);\n",
        "    P = P + Math.transpose(P);\n",
        "    P = P / Math.sum(P);\n",
        "    P = P * 4;  # early exaggeration\n",
        "    P = Math.maximum(P, 1e-12);\n",
        "\n",
        "    # Run iterations\n",
        "    for iter in range(max_iter):\n",
        "\n",
        "        # Compute pairwise affinities\n",
        "        sum_Y = Math.sum(Math.square(Y), 1);\n",
        "        num = 1 / (1 + Math.add(Math.add(-2 * Math.dot(Y, Y.T), sum_Y).T, sum_Y));\n",
        "        num[range(n), range(n)] = 0;\n",
        "        Q = num / Math.sum(num);\n",
        "        Q = Math.maximum(Q, 1e-12);\n",
        "\n",
        "        # Compute gradient\n",
        "        PQ = P - Q;\n",
        "        for i in range(n):\n",
        "            dY[i, :] = Math.sum(Math.tile(PQ[:, i] * num[:, i], (no_dims, 1)).T * (Y[i, :] - Y), 0);\n",
        "\n",
        "        # Perform the update\n",
        "        if iter < 20:\n",
        "            momentum = initial_momentum\n",
        "        else:\n",
        "            momentum = final_momentum\n",
        "        gains = (gains + 0.2) * ((dY > 0) != (iY > 0)) + (gains * 0.8) * ((dY > 0) == (iY > 0));\n",
        "        gains[gains < min_gain] = min_gain;\n",
        "        iY = momentum * iY - eta * (gains * dY);\n",
        "        Y = Y + iY;\n",
        "        Y = Y - Math.tile(Math.mean(Y, 0), (n, 1));\n",
        "\n",
        "        # Compute current value of cost function\n",
        "        if (iter + 1) % 10 == 0:\n",
        "            C = Math.sum(P * Math.log(P / Q));\n",
        "            print(\"Iteration \", (iter + 1), \": error is \", C)\n",
        "\n",
        "        # Stop lying about P-values\n",
        "        if iter == 100:\n",
        "            P = P / 4;\n",
        "\n",
        "    # Return solution\n",
        "    return Y;\n",
        "\n",
        "def tsne_plot_representation(model):\n",
        "    \"\"\"Plot a 2-D visualization of the learned representations using t-SNE.\"\"\"\n",
        "    print(model.params.word_embedding_weights.shape)\n",
        "    mapped_X = tsne(model.params.word_embedding_weights)\n",
        "    pylab.figure()\n",
        "    for i, w in enumerate(model.vocab):\n",
        "        pylab.text(mapped_X[i, 0], mapped_X[i, 1], w)\n",
        "    pylab.xlim(mapped_X[:, 0].min(), mapped_X[:, 0].max())\n",
        "    pylab.ylim(mapped_X[:, 1].min(), mapped_X[:, 1].max())\n",
        "    pylab.show()\n",
        "\n",
        "def tsne_plot_GLoVE_representation(W_final, b_final):\n",
        "    \"\"\"Plot a 2-D visualization of the learned representations using t-SNE.\"\"\"\n",
        "    mapped_X = tsne(W_final)\n",
        "    pylab.figure()\n",
        "    data_obj = pickle.load(open(data_location, 'rb'))\n",
        "    for i, w in enumerate(data_obj['vocab']):\n",
        "        pylab.text(mapped_X[i, 0], mapped_X[i, 1], w)\n",
        "    pylab.xlim(mapped_X[:, 0].min(), mapped_X[:, 0].max())\n",
        "    pylab.ylim(mapped_X[:, 1].min(), mapped_X[:, 1].max())\n",
        "    pylab.show()\n",
        "\n",
        "def plot_2d_GLoVE_representation(W_final, b_final):\n",
        "    \"\"\"Plot a 2-D visualization of the learned representations.\"\"\"\n",
        "    mapped_X = W_final\n",
        "    pylab.figure()\n",
        "    data_obj = pickle.load(open(data_location, 'rb'))\n",
        "    for i, w in enumerate(data_obj['vocab']):\n",
        "        pylab.text(mapped_X[i, 0], mapped_X[i, 1], w)\n",
        "    pylab.xlim(mapped_X[:, 0].min(), mapped_X[:, 0].max())\n",
        "    pylab.ylim(mapped_X[:, 1].min(), mapped_X[:, 1].max())\n",
        "    pylab.show()"
      ],
      "execution_count": 0,
      "outputs": []
    },
    {
      "cell_type": "code",
      "metadata": {
        "id": "D3p54i8oKJgq",
        "colab_type": "code",
        "outputId": "f0621edc-188e-4920-ef10-5e2079297e5d",
        "colab": {
          "base_uri": "https://localhost:8080/",
          "height": 187
        }
      },
      "source": [
        "trained_model.predict_next_word(\"he\", \"is\", \"the\")"
      ],
      "execution_count": 18,
      "outputs": [
        {
          "output_type": "stream",
          "text": [
            "he is the best Prob: 0.30298\n",
            "he is the same Prob: 0.09604\n",
            "he is the way Prob: 0.06930\n",
            "he is the only Prob: 0.04856\n",
            "he is the man Prob: 0.04572\n",
            "he is the first Prob: 0.04371\n",
            "he is the right Prob: 0.02787\n",
            "he is the president Prob: 0.02374\n",
            "he is the law Prob: 0.01761\n",
            "he is the other Prob: 0.01701\n"
          ],
          "name": "stdout"
        }
      ]
    },
    {
      "cell_type": "code",
      "metadata": {
        "id": "6T2qiXomLRVD",
        "colab_type": "code",
        "outputId": "e0cbbf7e-4f19-4d45-af10-bfa00d38a294",
        "colab": {
          "base_uri": "https://localhost:8080/",
          "height": 187
        }
      },
      "source": [
        "trained_model.predict_next_word(\"city\", \"of\", \"new\")"
      ],
      "execution_count": 19,
      "outputs": [
        {
          "output_type": "stream",
          "text": [
            "city of new york Prob: 0.99444\n",
            "city of new . Prob: 0.00150\n",
            "city of new home Prob: 0.00031\n",
            "city of new world Prob: 0.00026\n",
            "city of new , Prob: 0.00025\n",
            "city of new life Prob: 0.00025\n",
            "city of new place Prob: 0.00024\n",
            "city of new to Prob: 0.00017\n",
            "city of new year Prob: 0.00015\n",
            "city of new ? Prob: 0.00013\n"
          ],
          "name": "stdout"
        }
      ]
    },
    {
      "cell_type": "code",
      "metadata": {
        "id": "8CNjp6_wjjXw",
        "colab_type": "code",
        "colab": {
          "base_uri": "https://localhost:8080/",
          "height": 238
        },
        "outputId": "9eedb9e0-1614-485c-8b99-c194efb762f0"
      },
      "source": [
        "find_occurrences('i', 'may', 'never')\n",
        "trained_model.predict_next_word('i', 'may', 'never')"
      ],
      "execution_count": 20,
      "outputs": [
        {
          "output_type": "stream",
          "text": [
            "The tri-gram \"i may never\" was followed by the following words in the training set:\n",
            "    have (1 time)\n",
            "    get (1 time)\n",
            "i may never come Prob: 0.14235\n",
            "i may never say Prob: 0.14058\n",
            "i may never go Prob: 0.13909\n",
            "i may never be Prob: 0.09647\n",
            "i may never been Prob: 0.06991\n",
            "i may never do Prob: 0.06510\n",
            "i may never get Prob: 0.03578\n",
            "i may never have Prob: 0.03258\n",
            "i may never play Prob: 0.01949\n",
            "i may never see Prob: 0.01947\n"
          ],
          "name": "stdout"
        }
      ]
    },
    {
      "cell_type": "code",
      "metadata": {
        "id": "rDD0JwIpPIB0",
        "colab_type": "code",
        "outputId": "0efdfd44-80b4-43bc-9fc1-c532089da05f",
        "colab": {
          "base_uri": "https://localhost:8080/",
          "height": 34
        }
      },
      "source": [
        "trained_model.word_distance(\"new\", \"york\")"
      ],
      "execution_count": 21,
      "outputs": [
        {
          "output_type": "execute_result",
          "data": {
            "text/plain": [
              "4.049207092493872"
            ]
          },
          "metadata": {
            "tags": []
          },
          "execution_count": 21
        }
      ]
    },
    {
      "cell_type": "code",
      "metadata": {
        "id": "VghXMudByfJW",
        "colab_type": "code",
        "colab": {
          "base_uri": "https://localhost:8080/",
          "height": 187
        },
        "outputId": "2afc5e5e-e8b4-4ffb-e86a-46fe57f90353"
      },
      "source": [
        "trained_model.display_nearest_words(\"new\")"
      ],
      "execution_count": 22,
      "outputs": [
        {
          "output_type": "stream",
          "text": [
            "old: 2.8273026087918907\n",
            "second: 3.0069254172138975\n",
            "several: 3.011212874702603\n",
            "white: 3.089458321739552\n",
            "next: 3.102050683131064\n",
            "american: 3.16311601888819\n",
            "political: 3.2158829588683457\n",
            "last: 3.2619966891229883\n",
            "federal: 3.313872398142385\n",
            "million: 3.3336557010210504\n"
          ],
          "name": "stdout"
        }
      ]
    },
    {
      "cell_type": "code",
      "metadata": {
        "id": "3bPFVijmO_9g",
        "colab_type": "code",
        "outputId": "5a7a3d72-b922-4bfd-c3a6-726456898e53",
        "colab": {
          "base_uri": "https://localhost:8080/",
          "height": 187
        }
      },
      "source": [
        "trained_model.display_nearest_words(\"york\")"
      ],
      "execution_count": 23,
      "outputs": [
        {
          "output_type": "stream",
          "text": [
            "city: 0.8295117445010523\n",
            "country: 1.00415246225634\n",
            "general: 1.0634781980220007\n",
            "west: 1.0953307810280692\n",
            "state: 1.1012896337366969\n",
            "program: 1.1077745897624878\n",
            "company: 1.1240325054272664\n",
            "university: 1.1266588528332941\n",
            "states: 1.1349405550137783\n",
            "$: 1.1579254435462079\n"
          ],
          "name": "stdout"
        }
      ]
    },
    {
      "cell_type": "code",
      "metadata": {
        "id": "IYCB-Seb3OYy",
        "colab_type": "code",
        "colab": {
          "base_uri": "https://localhost:8080/",
          "height": 34
        },
        "outputId": "923cbafc-8354-4293-ff41-4549dc57483f"
      },
      "source": [
        "trained_model.word_distance (\"government\", \"political\")"
      ],
      "execution_count": 31,
      "outputs": [
        {
          "output_type": "execute_result",
          "data": {
            "text/plain": [
              "1.4759537372356153"
            ]
          },
          "metadata": {
            "tags": []
          },
          "execution_count": 31
        }
      ]
    },
    {
      "cell_type": "code",
      "metadata": {
        "id": "Si33TZPk3VK3",
        "colab_type": "code",
        "colab": {
          "base_uri": "https://localhost:8080/",
          "height": 34
        },
        "outputId": "f65a6aed-0830-47d1-f82c-202c57a748a6"
      },
      "source": [
        "trained_model.word_distance (\"government\", \"university\")"
      ],
      "execution_count": 32,
      "outputs": [
        {
          "output_type": "execute_result",
          "data": {
            "text/plain": [
              "1.1895426605899926"
            ]
          },
          "metadata": {
            "tags": []
          },
          "execution_count": 32
        }
      ]
    },
    {
      "cell_type": "markdown",
      "metadata": {
        "id": "5ZokGoNbivHp",
        "colab_type": "text"
      },
      "source": [
        "Using these methods, please answer the following questions, each of which is worth 1 point.\n",
        "\n",
        "\n",
        "\n",
        "1.   Pick three words from the vocabulary that go well together (for example, ‘*government of united*’,\n",
        "‘*city of new*’, ‘*life in the*’, ‘*he is the*’ etc.).\n",
        "Use the model to predict the next word.\n",
        "Does the model give sensible predictions?\n",
        "Try to find an example where it makes a plausible prediction even though the 4-gram wasn’t present in the dataset (*raw_sentences.txt*).\n",
        "To help you out, the function *find_occurrences* lists the words that appear after a given 3-gram in the training set.\n",
        "2.   Plot the 2-dimensional visualization using the method *tsne_plot_representation*.\n",
        "Look at the plot and find a few clusters of related words.\n",
        "What do the words in each cluster have in common?\n",
        "Plot the 2-dimensional visualization using the method *tsne_plot_GLoVE_representation* for a 256 dimensional embedding.\n",
        "How do the t-SNE embeddings for both models compare?\n",
        "Plot the 2-dimensional visualization using the method *plot_2d_GLoVE_representation*.\n",
        "How does this compare to the t-SNE embeddings?\n",
        "(You don’t need to include the plots with your submission.)\n",
        "\n",
        "3.   Are the words ‘*new*’ and ‘*york*’ close together in the learned representation?\n",
        "Why or why not?\n",
        "4.   Which pair of words is closer together in the learned representation: (‘*government*’, ‘*political*’), or (‘*government*’, ‘*university*’)?\n",
        "Why do you think this is?\n",
        "\n"
      ]
    },
    {
      "cell_type": "code",
      "metadata": {
        "id": "tZjEVB1oirWq",
        "colab_type": "code",
        "outputId": "81ee50b5-2031-488f-fa20-57efe469957f",
        "colab": {
          "base_uri": "https://localhost:8080/",
          "height": 1000
        }
      },
      "source": [
        "tsne_plot_representation(trained_model)"
      ],
      "execution_count": 24,
      "outputs": [
        {
          "output_type": "stream",
          "text": [
            "(250, 16)\n",
            "Preprocessing the data using PCA...\n",
            "Computing pairwise distances...\n",
            "Computing P-values for point  0  of  250 ...\n",
            "Mean value of sigma:  1.219793072687563\n",
            "Iteration  10 : error is  13.748811174306613\n",
            "Iteration  20 : error is  13.160507770510883\n",
            "Iteration  30 : error is  14.185499280401293\n",
            "Iteration  40 : error is  14.030950083810756\n",
            "Iteration  50 : error is  14.635692228768255\n",
            "Iteration  60 : error is  14.230654860708789\n",
            "Iteration  70 : error is  14.124230398437913\n",
            "Iteration  80 : error is  14.164693112811074\n",
            "Iteration  90 : error is  14.628890927837894\n",
            "Iteration  100 : error is  13.719385187060213\n",
            "Iteration  110 : error is  1.8942085064852767\n",
            "Iteration  120 : error is  1.4946736592404732\n",
            "Iteration  130 : error is  1.2825270977227217\n",
            "Iteration  140 : error is  1.1316477988674387\n",
            "Iteration  150 : error is  1.024417241232086\n",
            "Iteration  160 : error is  0.9649996519396145\n",
            "Iteration  170 : error is  0.9293384786392493\n",
            "Iteration  180 : error is  0.8965484907525023\n",
            "Iteration  190 : error is  0.8722374268864442\n",
            "Iteration  200 : error is  0.8618766614584228\n",
            "Iteration  210 : error is  0.8538261340408365\n",
            "Iteration  220 : error is  0.8499453472476645\n",
            "Iteration  230 : error is  0.8442409909222226\n",
            "Iteration  240 : error is  0.8398325544333447\n",
            "Iteration  250 : error is  0.8285522119529296\n",
            "Iteration  260 : error is  0.8161343938429313\n",
            "Iteration  270 : error is  0.8084460269863774\n",
            "Iteration  280 : error is  0.7970355218363803\n",
            "Iteration  290 : error is  0.7854339593659139\n",
            "Iteration  300 : error is  0.773928957329686\n",
            "Iteration  310 : error is  0.7652136586182969\n",
            "Iteration  320 : error is  0.7605885068194366\n",
            "Iteration  330 : error is  0.7548594661569402\n",
            "Iteration  340 : error is  0.7442107210657551\n",
            "Iteration  350 : error is  0.7328650888889187\n",
            "Iteration  360 : error is  0.7255334715980087\n",
            "Iteration  370 : error is  0.7210578621202859\n",
            "Iteration  380 : error is  0.7177912344915546\n",
            "Iteration  390 : error is  0.7152815364563018\n",
            "Iteration  400 : error is  0.7136992138020883\n",
            "Iteration  410 : error is  0.7127624380154709\n",
            "Iteration  420 : error is  0.7121647728090943\n",
            "Iteration  430 : error is  0.7115486167429204\n",
            "Iteration  440 : error is  0.7112389149070344\n",
            "Iteration  450 : error is  0.7108615426908599\n",
            "Iteration  460 : error is  0.7105097343815914\n",
            "Iteration  470 : error is  0.7099718911611294\n",
            "Iteration  480 : error is  0.7095528341617237\n",
            "Iteration  490 : error is  0.7090341646338215\n",
            "Iteration  500 : error is  0.7085482137643129\n",
            "Iteration  510 : error is  0.7067163234988456\n",
            "Iteration  520 : error is  0.7059973454847983\n",
            "Iteration  530 : error is  0.7058377527395437\n",
            "Iteration  540 : error is  0.7057498435500122\n",
            "Iteration  550 : error is  0.7056676199223062\n",
            "Iteration  560 : error is  0.7055332586590949\n",
            "Iteration  570 : error is  0.7047609017090576\n",
            "Iteration  580 : error is  0.7041627504127661\n",
            "Iteration  590 : error is  0.7034190676913437\n",
            "Iteration  600 : error is  0.7023368774345666\n",
            "Iteration  610 : error is  0.7018238578385223\n",
            "Iteration  620 : error is  0.7012289306454313\n",
            "Iteration  630 : error is  0.7000676714462409\n",
            "Iteration  640 : error is  0.6978259180013339\n",
            "Iteration  650 : error is  0.6973227003909133\n",
            "Iteration  660 : error is  0.6970024531895298\n",
            "Iteration  670 : error is  0.6969267997722541\n",
            "Iteration  680 : error is  0.6968911142266231\n",
            "Iteration  690 : error is  0.696850878912243\n",
            "Iteration  700 : error is  0.6967786660315266\n",
            "Iteration  710 : error is  0.696661457509317\n",
            "Iteration  720 : error is  0.6964980974677122\n",
            "Iteration  730 : error is  0.6963445357327563\n",
            "Iteration  740 : error is  0.6958217296478203\n",
            "Iteration  750 : error is  0.6955094422012138\n",
            "Iteration  760 : error is  0.6938258726096572\n",
            "Iteration  770 : error is  0.6924616459234263\n",
            "Iteration  780 : error is  0.6895877780184184\n",
            "Iteration  790 : error is  0.6887721325543743\n",
            "Iteration  800 : error is  0.6883742027899011\n",
            "Iteration  810 : error is  0.6882340175203635\n",
            "Iteration  820 : error is  0.6879951757430165\n",
            "Iteration  830 : error is  0.6878798173143824\n",
            "Iteration  840 : error is  0.6878086524634632\n",
            "Iteration  850 : error is  0.6877134342089101\n",
            "Iteration  860 : error is  0.6876155532288218\n",
            "Iteration  870 : error is  0.6874384794606047\n",
            "Iteration  880 : error is  0.687264176386835\n",
            "Iteration  890 : error is  0.6870106142671549\n",
            "Iteration  900 : error is  0.6866486841105943\n",
            "Iteration  910 : error is  0.6860594622508847\n",
            "Iteration  920 : error is  0.6853242994189505\n",
            "Iteration  930 : error is  0.6852135831865049\n",
            "Iteration  940 : error is  0.6851377315092874\n",
            "Iteration  950 : error is  0.6850632334803515\n",
            "Iteration  960 : error is  0.6850123375951357\n",
            "Iteration  970 : error is  0.6849770987677033\n",
            "Iteration  980 : error is  0.6849520699155045\n",
            "Iteration  990 : error is  0.684934710621628\n",
            "Iteration  1000 : error is  0.6849223230574649\n"
          ],
          "name": "stdout"
        },
        {
          "output_type": "display_data",
          "data": {
            "image/png": "[encoded data removed]",
            "text/plain": [
              "<Figure size 432x288 with 1 Axes>"
            ]
          },
          "metadata": {
            "tags": []
          }
        }
      ]
    },
    {
      "cell_type": "code",
      "metadata": {
        "id": "1gJQE9Gxsftn",
        "colab_type": "code",
        "outputId": "37235bc1-1306-4b3f-839e-8c1a5f7ae882",
        "colab": {
          "base_uri": "https://localhost:8080/",
          "height": 1000
        }
      },
      "source": [
        "tsne_plot_GLoVE_representation(W_final, b_final)"
      ],
      "execution_count": 25,
      "outputs": [
        {
          "output_type": "stream",
          "text": [
            "Preprocessing the data using PCA...\n",
            "Computing pairwise distances...\n",
            "Computing P-values for point  0  of  250 ...\n",
            "Mean value of sigma:  0.7417930726875628\n",
            "Iteration  10 : error is  16.914294215445327\n",
            "Iteration  20 : error is  16.80137193351567\n",
            "Iteration  30 : error is  18.155158974782957\n",
            "Iteration  40 : error is  17.219786318674963\n",
            "Iteration  50 : error is  17.803899046269304\n",
            "Iteration  60 : error is  17.101137660155118\n",
            "Iteration  70 : error is  18.6128773615842\n",
            "Iteration  80 : error is  17.945801953649593\n",
            "Iteration  90 : error is  18.703499859115684\n",
            "Iteration  100 : error is  19.03743290002431\n",
            "Iteration  110 : error is  2.6625707231747957\n",
            "Iteration  120 : error is  2.0738044570474345\n",
            "Iteration  130 : error is  1.8172632046585113\n",
            "Iteration  140 : error is  1.5855965159781749\n",
            "Iteration  150 : error is  1.4892009550327232\n",
            "Iteration  160 : error is  1.4115065104908728\n",
            "Iteration  170 : error is  1.3515154248342192\n",
            "Iteration  180 : error is  1.319426181426102\n",
            "Iteration  190 : error is  1.3001970038865165\n",
            "Iteration  200 : error is  1.2875861351411355\n",
            "Iteration  210 : error is  1.2784297151963355\n",
            "Iteration  220 : error is  1.27075738201216\n",
            "Iteration  230 : error is  1.2588856633200893\n",
            "Iteration  240 : error is  1.2492663690382722\n",
            "Iteration  250 : error is  1.2423878226919045\n",
            "Iteration  260 : error is  1.236830601557314\n",
            "Iteration  270 : error is  1.2301382144262631\n",
            "Iteration  280 : error is  1.2230508744011215\n",
            "Iteration  290 : error is  1.2173327666216893\n",
            "Iteration  300 : error is  1.2116519896322366\n",
            "Iteration  310 : error is  1.2023643983089727\n",
            "Iteration  320 : error is  1.1968963352770021\n",
            "Iteration  330 : error is  1.1920189341906422\n",
            "Iteration  340 : error is  1.189563950733794\n",
            "Iteration  350 : error is  1.1875447041053762\n",
            "Iteration  360 : error is  1.1858928693380597\n",
            "Iteration  370 : error is  1.1839777055890106\n",
            "Iteration  380 : error is  1.1809057574969288\n",
            "Iteration  390 : error is  1.1768136884184361\n",
            "Iteration  400 : error is  1.16922938173111\n",
            "Iteration  410 : error is  1.1547246823704285\n",
            "Iteration  420 : error is  1.1485460920475266\n",
            "Iteration  430 : error is  1.1422759713798412\n",
            "Iteration  440 : error is  1.1396568746116733\n",
            "Iteration  450 : error is  1.1383993413491886\n",
            "Iteration  460 : error is  1.1355851654831235\n",
            "Iteration  470 : error is  1.131266406610007\n",
            "Iteration  480 : error is  1.1252470015716722\n",
            "Iteration  490 : error is  1.1220171837485706\n",
            "Iteration  500 : error is  1.1182424534133535\n",
            "Iteration  510 : error is  1.1163119718608108\n",
            "Iteration  520 : error is  1.1154677081810918\n",
            "Iteration  530 : error is  1.1151551201497767\n",
            "Iteration  540 : error is  1.114975438219091\n",
            "Iteration  550 : error is  1.1148454394018104\n",
            "Iteration  560 : error is  1.114744996507766\n",
            "Iteration  570 : error is  1.1146601463698973\n",
            "Iteration  580 : error is  1.1145803154411262\n",
            "Iteration  590 : error is  1.1145038180687359\n",
            "Iteration  600 : error is  1.1144307368441997\n",
            "Iteration  610 : error is  1.1143503528365244\n",
            "Iteration  620 : error is  1.1142591131391308\n",
            "Iteration  630 : error is  1.1141560774964638\n",
            "Iteration  640 : error is  1.114061892459861\n",
            "Iteration  650 : error is  1.1140057286827512\n",
            "Iteration  660 : error is  1.1139629206834871\n",
            "Iteration  670 : error is  1.1139235297589658\n",
            "Iteration  680 : error is  1.113886409508586\n",
            "Iteration  690 : error is  1.1138524825034493\n",
            "Iteration  700 : error is  1.1138213913583637\n",
            "Iteration  710 : error is  1.1137931615496766\n",
            "Iteration  720 : error is  1.1137669069177887\n",
            "Iteration  730 : error is  1.1137428053081677\n",
            "Iteration  740 : error is  1.1137209786488675\n",
            "Iteration  750 : error is  1.113700322878493\n",
            "Iteration  760 : error is  1.1136808578999728\n",
            "Iteration  770 : error is  1.1136632386991498\n",
            "Iteration  780 : error is  1.1136467998701698\n",
            "Iteration  790 : error is  1.1136317863167764\n",
            "Iteration  800 : error is  1.1136175937760993\n",
            "Iteration  810 : error is  1.113603741440787\n",
            "Iteration  820 : error is  1.1135911652405535\n",
            "Iteration  830 : error is  1.1135794128784244\n",
            "Iteration  840 : error is  1.113568381177457\n",
            "Iteration  850 : error is  1.1135578523381306\n",
            "Iteration  860 : error is  1.1135477934588662\n",
            "Iteration  870 : error is  1.11353890902751\n",
            "Iteration  880 : error is  1.1135304714599543\n",
            "Iteration  890 : error is  1.1135221620619316\n",
            "Iteration  900 : error is  1.1135145571381444\n",
            "Iteration  910 : error is  1.11350735229549\n",
            "Iteration  920 : error is  1.1135005070737596\n",
            "Iteration  930 : error is  1.1134940817530992\n",
            "Iteration  940 : error is  1.1134880646743381\n",
            "Iteration  950 : error is  1.1134824462928143\n",
            "Iteration  960 : error is  1.1134770414140867\n",
            "Iteration  970 : error is  1.1134720339664304\n",
            "Iteration  980 : error is  1.1134670748352844\n",
            "Iteration  990 : error is  1.1134626111386496\n",
            "Iteration  1000 : error is  1.113458600892715\n"
          ],
          "name": "stdout"
        },
        {
          "output_type": "display_data",
          "data": {
            "image/png": "[encoded data removed]",
            "text/plain": [
              "<Figure size 432x288 with 1 Axes>"
            ]
          },
          "metadata": {
            "tags": []
          }
        }
      ]
    },
    {
      "cell_type": "code",
      "metadata": {
        "id": "pw5WKPyntY_O",
        "colab_type": "code",
        "outputId": "5ca593de-0213-4058-9ae3-3c77587f17b5",
        "colab": {
          "base_uri": "https://localhost:8080/",
          "height": 273
        }
      },
      "source": [
        "plot_2d_GLoVE_representation(W_final_2d, b_final_2d)"
      ],
      "execution_count": 26,
      "outputs": [
        {
          "output_type": "display_data",
          "data": {
            "image/png": "[encoded data removed]",
            "text/plain": [
              "<Figure size 432x288 with 1 Axes>"
            ]
          },
          "metadata": {
            "tags": []
          }
        }
      ]
    },
    {
      "cell_type": "code",
      "metadata": {
        "id": "MR6DEZvM_0jg",
        "colab_type": "code",
        "outputId": "4c8d5a8a-82a8-4669-b085-3b825474fd00",
        "colab": {
          "base_uri": "https://localhost:8080/",
          "height": 1000
        }
      },
      "source": [
        "tsne_plot_GLoVE_representation(W_final_2d, b_final_2d)"
      ],
      "execution_count": 27,
      "outputs": [
        {
          "output_type": "stream",
          "text": [
            "Preprocessing the data using PCA...\n",
            "Computing pairwise distances...\n",
            "Computing P-values for point  0  of  250 ...\n",
            "Mean value of sigma:  0.23915790027001896\n",
            "Iteration  10 : error is  11.448313562887227\n",
            "Iteration  20 : error is  9.95616386539246\n",
            "Iteration  30 : error is  10.01092143965854\n",
            "Iteration  40 : error is  10.21355721014419\n",
            "Iteration  50 : error is  10.120675020421801\n",
            "Iteration  60 : error is  10.13729977758928\n",
            "Iteration  70 : error is  10.116163726237314\n",
            "Iteration  80 : error is  10.201114829184093\n",
            "Iteration  90 : error is  10.2763264530094\n",
            "Iteration  100 : error is  10.205755688291847\n",
            "Iteration  110 : error is  0.8170166313905505\n",
            "Iteration  120 : error is  0.4690173189107599\n",
            "Iteration  130 : error is  0.38938899930075244\n",
            "Iteration  140 : error is  0.3549130157661863\n",
            "Iteration  150 : error is  0.34552982114635916\n",
            "Iteration  160 : error is  0.3263626967103157\n",
            "Iteration  170 : error is  0.3157331350847815\n",
            "Iteration  180 : error is  0.31138854294202756\n",
            "Iteration  190 : error is  0.30923992840731107\n",
            "Iteration  200 : error is  0.3079856904796939\n",
            "Iteration  210 : error is  0.3071020405416235\n",
            "Iteration  220 : error is  0.3065017070637967\n",
            "Iteration  230 : error is  0.30604336084319356\n",
            "Iteration  240 : error is  0.3057028034509238\n",
            "Iteration  250 : error is  0.30545548199257067\n",
            "Iteration  260 : error is  0.30526408006628775\n",
            "Iteration  270 : error is  0.30512200147256635\n",
            "Iteration  280 : error is  0.305009805273694\n",
            "Iteration  290 : error is  0.30492112740182026\n",
            "Iteration  300 : error is  0.30485229220442506\n",
            "Iteration  310 : error is  0.3047947657660784\n",
            "Iteration  320 : error is  0.3047480301856627\n",
            "Iteration  330 : error is  0.30470974384406896\n",
            "Iteration  340 : error is  0.30467625331274684\n",
            "Iteration  350 : error is  0.3046486435527524\n",
            "Iteration  360 : error is  0.3046248387688954\n",
            "Iteration  370 : error is  0.3046048161540154\n",
            "Iteration  380 : error is  0.304587777156319\n",
            "Iteration  390 : error is  0.30457302124858515\n",
            "Iteration  400 : error is  0.3045596817515739\n",
            "Iteration  410 : error is  0.3045481777501228\n",
            "Iteration  420 : error is  0.30453829114956443\n",
            "Iteration  430 : error is  0.30452951378945986\n",
            "Iteration  440 : error is  0.304521968904526\n",
            "Iteration  450 : error is  0.3045151467058281\n",
            "Iteration  460 : error is  0.30450924602907137\n",
            "Iteration  470 : error is  0.30450406351148485\n",
            "Iteration  480 : error is  0.30449926382207343\n",
            "Iteration  490 : error is  0.30449506747541566\n",
            "Iteration  500 : error is  0.3044913224934707\n",
            "Iteration  510 : error is  0.30448788944985516\n",
            "Iteration  520 : error is  0.30448504653419467\n",
            "Iteration  530 : error is  0.3044825125478511\n",
            "Iteration  540 : error is  0.30448009457068065\n",
            "Iteration  550 : error is  0.3044779297321315\n",
            "Iteration  560 : error is  0.3044759800178104\n",
            "Iteration  570 : error is  0.3044742502792902\n",
            "Iteration  580 : error is  0.30447268878368694\n",
            "Iteration  590 : error is  0.30447129802382655\n",
            "Iteration  600 : error is  0.3044700279387788\n",
            "Iteration  610 : error is  0.30446889024659024\n",
            "Iteration  620 : error is  0.3044678436543633\n",
            "Iteration  630 : error is  0.304466890196639\n",
            "Iteration  640 : error is  0.3044660459009043\n",
            "Iteration  650 : error is  0.30446527675924456\n",
            "Iteration  660 : error is  0.30446460190615704\n",
            "Iteration  670 : error is  0.3044640049103709\n",
            "Iteration  680 : error is  0.30446347344443736\n",
            "Iteration  690 : error is  0.30446296744318546\n",
            "Iteration  700 : error is  0.30446250636407984\n",
            "Iteration  710 : error is  0.3044620851409013\n",
            "Iteration  720 : error is  0.30446169452018923\n",
            "Iteration  730 : error is  0.3044613501049292\n",
            "Iteration  740 : error is  0.3044610465883159\n",
            "Iteration  750 : error is  0.3044607556725583\n",
            "Iteration  760 : error is  0.3044605019972503\n",
            "Iteration  770 : error is  0.3044602625184512\n",
            "Iteration  780 : error is  0.3044600480852233\n",
            "Iteration  790 : error is  0.3044598568612015\n",
            "Iteration  800 : error is  0.3044596740647799\n",
            "Iteration  810 : error is  0.30445951220162787\n",
            "Iteration  820 : error is  0.3044593613640816\n",
            "Iteration  830 : error is  0.3044592258519528\n",
            "Iteration  840 : error is  0.30445910291967027\n",
            "Iteration  850 : error is  0.30445899116060876\n",
            "Iteration  860 : error is  0.304458888600223\n",
            "Iteration  870 : error is  0.30445879423905964\n",
            "Iteration  880 : error is  0.3044587075074406\n",
            "Iteration  890 : error is  0.30445862937675316\n",
            "Iteration  900 : error is  0.3044585589550239\n",
            "Iteration  910 : error is  0.30445849525639784\n",
            "Iteration  920 : error is  0.30445843548387086\n",
            "Iteration  930 : error is  0.3044583815978328\n",
            "Iteration  940 : error is  0.3044583314365242\n",
            "Iteration  950 : error is  0.30445828624637294\n",
            "Iteration  960 : error is  0.30445824538848504\n",
            "Iteration  970 : error is  0.304458207841301\n",
            "Iteration  980 : error is  0.3044581741846133\n",
            "Iteration  990 : error is  0.3044581416428831\n",
            "Iteration  1000 : error is  0.30445811309376103\n"
          ],
          "name": "stdout"
        },
        {
          "output_type": "display_data",
          "data": {
            "image/png": "[encoded data removed]",
            "text/plain": [
              "<Figure size 432x288 with 1 Axes>"
            ]
          },
          "metadata": {
            "tags": []
          }
        }
      ]
    },
    {
      "cell_type": "markdown",
      "metadata": {
        "id": "d3RzXTTzsdy9",
        "colab_type": "text"
      },
      "source": [
        "# What you have to submit\n",
        "\n",
        "For reference, here is everything you need to hand in. See the top of this handout for submission\n",
        "directions.\n",
        "\n",
        "\n",
        "\n",
        "*   A PDF file titled *a1-writeup.pdf* containing the following:\n",
        "Both questions from Part 2, the output of *print_gradients()*, answers to all four questions from Part 3.\n",
        "*   Your code file *language_model.ipynb*\n"
      ]
    }
  ]
}